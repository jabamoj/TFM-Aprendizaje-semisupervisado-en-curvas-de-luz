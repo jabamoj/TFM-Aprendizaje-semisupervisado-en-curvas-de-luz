{
  "cells": [
    {
      "cell_type": "code",
      "execution_count": null,
      "metadata": {
        "id": "WKj79xGf__EC"
      },
      "outputs": [],
      "source": [
        "import pandas as pd\n",
        "import numpy as np"
      ]
    },
    {
      "cell_type": "code",
      "execution_count": null,
      "metadata": {
        "id": "FT9qVvzg__S4"
      },
      "outputs": [],
      "source": [
        "# extracted_features =  pd.read_csv(\"/content/drive/MyDrive/TFM_Javier_Eneritz/DATOS_TFM/features_savgol_81_8_total.csv\")\n",
        "extracted_features =  pd.read_csv(\"features_var_savgol_KEPID_total.csv\")\n",
        "\n",
        "\n"
      ]
    },
    {
      "cell_type": "code",
      "execution_count": null,
      "metadata": {
        "id": "3pl1TzWrAyuz"
      },
      "outputs": [],
      "source": [
        "# y_fold = pd.read_csv(\"/content/drive/MyDrive/TFM_Javier_Eneritz/DATOS_TFM/labels_savgol_81_8_total.csv\")\n",
        "y_fold = pd.read_csv(\"labels_var_savgol_KEPID_total.csv\")\n",
        "\n"
      ]
    },
    {
      "cell_type": "code",
      "execution_count": null,
      "metadata": {
        "id": "B_C24SBvA6FJ",
        "colab": {
          "base_uri": "https://localhost:8080/"
        },
        "outputId": "36e6f68b-896c-4d60-c7c5-49ea4d5889ce"
      },
      "outputs": [
        {
          "output_type": "stream",
          "name": "stdout",
          "text": [
            "      Unnamed: 0  EVEN__variance_larger_than_standard_deviation  \\\n",
            "0       10797460                                            0.0   \n",
            "1       10797460                                            0.0   \n",
            "2       10848459                                            0.0   \n",
            "3       10854555                                            0.0   \n",
            "4       10872983                                            0.0   \n",
            "...          ...                                            ...   \n",
            "6998    10199817                                            0.0   \n",
            "6999    10031643                                            0.0   \n",
            "7000    10090151                                            0.0   \n",
            "7001    10147276                                            0.0   \n",
            "7002    10156110                                            0.0   \n",
            "\n",
            "      EVEN__has_duplicate_max  EVEN__has_duplicate_min  EVEN__has_duplicate  \\\n",
            "0                         0.0                      0.0                  1.0   \n",
            "1                         0.0                      0.0                  1.0   \n",
            "2                         0.0                      0.0                  1.0   \n",
            "3                         0.0                      0.0                  1.0   \n",
            "4                         0.0                      0.0                  1.0   \n",
            "...                       ...                      ...                  ...   \n",
            "6998                      0.0                      0.0                  1.0   \n",
            "6999                      0.0                      0.0                  1.0   \n",
            "7000                      0.0                      0.0                  1.0   \n",
            "7001                      0.0                      0.0                  1.0   \n",
            "7002                      0.0                      0.0                  1.0   \n",
            "\n",
            "      EVEN__sum_values  EVEN__abs_energy  EVEN__mean_abs_change  \\\n",
            "0          4015.824219       4015.649170               0.000231   \n",
            "1          4160.084473       4160.168945               0.000115   \n",
            "2          2451.083984       2451.168945               0.000320   \n",
            "3         42988.800781      42987.601562               0.000163   \n",
            "4          4219.104004       4219.208984               0.000323   \n",
            "...                ...               ...                    ...   \n",
            "6998        740.018799        740.037598               0.000085   \n",
            "6999       4015.164551       4015.329590               0.000160   \n",
            "7000       4142.574219       4142.149902               0.000234   \n",
            "7001       4141.006836       4141.013672               0.000216   \n",
            "7002       3985.080078       3985.160889               0.000159   \n",
            "\n",
            "      EVEN__mean_change  EVEN__mean_second_derivative_central  ...  \\\n",
            "0         -1.142361e-07                          7.829235e-08  ...   \n",
            "1          5.166500e-08                         -5.221499e-08  ...   \n",
            "2          2.956877e-07                          1.916403e-07  ...   \n",
            "3          8.467412e-09                          6.059880e-09  ...   \n",
            "4          9.213426e-09                         -1.101492e-07  ...   \n",
            "...                 ...                                   ...  ...   \n",
            "6998      -9.283484e-08                         -4.757064e-08  ...   \n",
            "6999      -1.841299e-08                         -4.328875e-08  ...   \n",
            "7000       5.828074e-08                         -1.151502e-10  ...   \n",
            "7001      -1.287547e-07                          2.183151e-08  ...   \n",
            "7002       1.262709e-08                          2.820858e-09  ...   \n",
            "\n",
            "      ODD__fourier_entropy__bins_5  ODD__fourier_entropy__bins_10  \\\n",
            "0                         0.090729                       0.136002   \n",
            "1                         0.090729                       0.200814   \n",
            "2                         0.170467                       0.493901   \n",
            "3                         0.687304                       0.950240   \n",
            "4                         0.785628                       1.413748   \n",
            "...                            ...                            ...   \n",
            "6998                      0.125256                       0.136002   \n",
            "6999                      0.371351                       0.985566   \n",
            "7000                      0.170467                       0.215617   \n",
            "7001                      0.090729                       0.170467   \n",
            "7002                      0.545709                       1.154727   \n",
            "\n",
            "      ODD__fourier_entropy__bins_100  \\\n",
            "0                           1.462472   \n",
            "1                           1.181686   \n",
            "2                           2.397340   \n",
            "3                           1.845791   \n",
            "4                           3.442192   \n",
            "...                              ...   \n",
            "6998                        0.290926   \n",
            "6999                        3.050182   \n",
            "7000                        0.839129   \n",
            "7001                        1.196578   \n",
            "7002                        3.078822   \n",
            "\n",
            "      ODD__permutation_entropy__dimension_3__tau_1  \\\n",
            "0                                         1.791324   \n",
            "1                                         1.662535   \n",
            "2                                         1.789296   \n",
            "3                                         1.612436   \n",
            "4                                         1.791287   \n",
            "...                                            ...   \n",
            "6998                                      1.579062   \n",
            "6999                                      1.791311   \n",
            "7000                                      1.449361   \n",
            "7001                                      1.791716   \n",
            "7002                                      1.790701   \n",
            "\n",
            "      ODD__permutation_entropy__dimension_4__tau_1  \\\n",
            "0                                         3.174518   \n",
            "1                                         2.820115   \n",
            "2                                         3.170523   \n",
            "3                                         2.691177   \n",
            "4                                         3.172671   \n",
            "...                                            ...   \n",
            "6998                                      2.565968   \n",
            "6999                                      3.176200   \n",
            "7000                                      2.274781   \n",
            "7001                                      3.174823   \n",
            "7002                                      3.174596   \n",
            "\n",
            "      ODD__permutation_entropy__dimension_5__tau_1  \\\n",
            "0                                         4.769713   \n",
            "1                                         4.122606   \n",
            "2                                         4.751210   \n",
            "3                                         3.888618   \n",
            "4                                         4.764660   \n",
            "...                                            ...   \n",
            "6998                                      3.626046   \n",
            "6999                                      4.770640   \n",
            "7000                                      3.128454   \n",
            "7001                                      4.768101   \n",
            "7002                                      4.770785   \n",
            "\n",
            "      ODD__permutation_entropy__dimension_6__tau_1  \\\n",
            "0                                         6.468411   \n",
            "1                                         5.504923   \n",
            "2                                         6.393806   \n",
            "3                                         5.178939   \n",
            "4                                         6.465097   \n",
            "...                                            ...   \n",
            "6998                                      4.721581   \n",
            "6999                                      6.463288   \n",
            "7000                                      3.998263   \n",
            "7001                                      6.466485   \n",
            "7002                                      6.476201   \n",
            "\n",
            "      ODD__permutation_entropy__dimension_7__tau_1  \\\n",
            "0                                         7.815172   \n",
            "1                                         6.774539   \n",
            "2                                         7.456609   \n",
            "3                                         6.516979   \n",
            "4                                         7.820014   \n",
            "...                                            ...   \n",
            "6998                                      5.706088   \n",
            "6999                                      7.792769   \n",
            "7000                                      4.853387   \n",
            "7001                                      7.792643   \n",
            "7002                                      7.828248   \n",
            "\n",
            "      ODD__query_similarity_count__query_None__threshold_0.0  \\\n",
            "0                                                   NaN        \n",
            "1                                                   NaN        \n",
            "2                                                   NaN        \n",
            "3                                                   NaN        \n",
            "4                                                   NaN        \n",
            "...                                                 ...        \n",
            "6998                                                NaN        \n",
            "6999                                                NaN        \n",
            "7000                                                NaN        \n",
            "7001                                                NaN        \n",
            "7002                                                NaN        \n",
            "\n",
            "      ODD__mean_n_absolute_max__number_of_maxima_7  \n",
            "0                                         1.000876  \n",
            "1                                         1.001846  \n",
            "2                                         1.001100  \n",
            "3                                         1.001510  \n",
            "4                                         1.000945  \n",
            "...                                            ...  \n",
            "6998                                      1.000321  \n",
            "6999                                      1.000510  \n",
            "7000                                      1.000798  \n",
            "7001                                      1.000835  \n",
            "7002                                      1.000568  \n",
            "\n",
            "[7003 rows x 1555 columns]\n"
          ]
        }
      ],
      "source": [
        "print(extracted_features)"
      ]
    },
    {
      "cell_type": "code",
      "execution_count": null,
      "metadata": {
        "id": "FxUBpzycA_Ed",
        "colab": {
          "base_uri": "https://localhost:8080/"
        },
        "outputId": "5c481030-f6cb-4875-dd47-e094046c7f03"
      },
      "outputs": [
        {
          "output_type": "stream",
          "name": "stdout",
          "text": [
            "      Unnamed: 0  label\n",
            "0       10797460   True\n",
            "1       10797460   True\n",
            "2       10848459  False\n",
            "3       10854555   True\n",
            "4       10872983   True\n",
            "...          ...    ...\n",
            "6998    10199817  False\n",
            "6999    10031643  False\n",
            "7000    10090151  False\n",
            "7001    10147276  False\n",
            "7002    10156110  False\n",
            "\n",
            "[7003 rows x 2 columns]\n"
          ]
        }
      ],
      "source": [
        "print(y_fold)"
      ]
    },
    {
      "cell_type": "code",
      "execution_count": null,
      "metadata": {
        "id": "UsRnQQLdBwht"
      },
      "outputs": [],
      "source": [
        "y_fold = y_fold.iloc[:, 1:]"
      ]
    },
    {
      "cell_type": "code",
      "execution_count": null,
      "metadata": {
        "id": "089LO-jQX3rz",
        "colab": {
          "base_uri": "https://localhost:8080/"
        },
        "outputId": "de3dbfc4-2372-42a5-e779-2a1bc314d285"
      },
      "outputs": [
        {
          "output_type": "stream",
          "name": "stdout",
          "text": [
            "      label\n",
            "0      True\n",
            "1      True\n",
            "2     False\n",
            "3      True\n",
            "4      True\n",
            "...     ...\n",
            "6998  False\n",
            "6999  False\n",
            "7000  False\n",
            "7001  False\n",
            "7002  False\n",
            "\n",
            "[7003 rows x 1 columns]\n"
          ]
        }
      ],
      "source": [
        "print(y_fold)"
      ]
    },
    {
      "cell_type": "code",
      "execution_count": null,
      "metadata": {
        "id": "of6qGw3eX6oM",
        "colab": {
          "base_uri": "https://localhost:8080/",
          "height": 178
        },
        "outputId": "37baa30b-b72e-41d2-9a85-774846fd6bff"
      },
      "outputs": [
        {
          "output_type": "execute_result",
          "data": {
            "text/plain": [
              "label\n",
              "False    4364\n",
              "True     2639\n",
              "Name: count, dtype: int64"
            ],
            "text/html": [
              "<div>\n",
              "<style scoped>\n",
              "    .dataframe tbody tr th:only-of-type {\n",
              "        vertical-align: middle;\n",
              "    }\n",
              "\n",
              "    .dataframe tbody tr th {\n",
              "        vertical-align: top;\n",
              "    }\n",
              "\n",
              "    .dataframe thead th {\n",
              "        text-align: right;\n",
              "    }\n",
              "</style>\n",
              "<table border=\"1\" class=\"dataframe\">\n",
              "  <thead>\n",
              "    <tr style=\"text-align: right;\">\n",
              "      <th></th>\n",
              "      <th>count</th>\n",
              "    </tr>\n",
              "    <tr>\n",
              "      <th>label</th>\n",
              "      <th></th>\n",
              "    </tr>\n",
              "  </thead>\n",
              "  <tbody>\n",
              "    <tr>\n",
              "      <th>False</th>\n",
              "      <td>4364</td>\n",
              "    </tr>\n",
              "    <tr>\n",
              "      <th>True</th>\n",
              "      <td>2639</td>\n",
              "    </tr>\n",
              "  </tbody>\n",
              "</table>\n",
              "</div><br><label><b>dtype:</b> int64</label>"
            ]
          },
          "metadata": {},
          "execution_count": 16
        }
      ],
      "source": [
        "y_fold.value_counts()"
      ]
    },
    {
      "cell_type": "markdown",
      "metadata": {
        "id": "p1Z-qOm4WJp7"
      },
      "source": [
        "Eliminar acarcteristicas ruidosas"
      ]
    },
    {
      "cell_type": "code",
      "execution_count": null,
      "metadata": {
        "colab": {
          "base_uri": "https://localhost:8080/",
          "height": 204
        },
        "id": "pQRGHrNXWtZr",
        "outputId": "08a785c5-c592-40cb-9470-8550d723f0c1"
      },
      "outputs": [
        {
          "output_type": "execute_result",
          "data": {
            "text/plain": [
              "pandas.core.frame.DataFrame"
            ],
            "text/html": [
              "<div style=\"max-width:800px; border: 1px solid var(--colab-border-color);\"><style>\n",
              "      pre.function-repr-contents {\n",
              "        overflow-x: auto;\n",
              "        padding: 8px 12px;\n",
              "        max-height: 500px;\n",
              "      }\n",
              "\n",
              "      pre.function-repr-contents.function-repr-contents-collapsed {\n",
              "        cursor: pointer;\n",
              "        max-height: 100px;\n",
              "      }\n",
              "    </style>\n",
              "    <pre style=\"white-space: initial; background:\n",
              "         var(--colab-secondary-surface-color); padding: 8px 12px;\n",
              "         border-bottom: 1px solid var(--colab-border-color);\"><b>pandas.core.frame.DataFrame</b><br/>def __init__(data=None, index: Axes | None=None, columns: Axes | None=None, dtype: Dtype | None=None, copy: bool | None=None) -&gt; None</pre><pre class=\"function-repr-contents function-repr-contents-collapsed\" style=\"\"><a class=\"filepath\" style=\"display:none\" href=\"#\">/usr/local/lib/python3.12/dist-packages/pandas/core/frame.py</a>Two-dimensional, size-mutable, potentially heterogeneous tabular data.\n",
              "\n",
              "Data structure also contains labeled axes (rows and columns).\n",
              "Arithmetic operations align on both row and column labels. Can be\n",
              "thought of as a dict-like container for Series objects. The primary\n",
              "pandas data structure.\n",
              "\n",
              "Parameters\n",
              "----------\n",
              "data : ndarray (structured or homogeneous), Iterable, dict, or DataFrame\n",
              "    Dict can contain Series, arrays, constants, dataclass or list-like objects. If\n",
              "    data is a dict, column order follows insertion-order. If a dict contains Series\n",
              "    which have an index defined, it is aligned by its index. This alignment also\n",
              "    occurs if data is a Series or a DataFrame itself. Alignment is done on\n",
              "    Series/DataFrame inputs.\n",
              "\n",
              "    If data is a list of dicts, column order follows insertion-order.\n",
              "\n",
              "index : Index or array-like\n",
              "    Index to use for resulting frame. Will default to RangeIndex if\n",
              "    no indexing information part of input data and no index provided.\n",
              "columns : Index or array-like\n",
              "    Column labels to use for resulting frame when data does not have them,\n",
              "    defaulting to RangeIndex(0, 1, 2, ..., n). If data contains column labels,\n",
              "    will perform column selection instead.\n",
              "dtype : dtype, default None\n",
              "    Data type to force. Only a single dtype is allowed. If None, infer.\n",
              "copy : bool or None, default None\n",
              "    Copy data from inputs.\n",
              "    For dict data, the default of None behaves like ``copy=True``.  For DataFrame\n",
              "    or 2d ndarray input, the default of None behaves like ``copy=False``.\n",
              "    If data is a dict containing one or more Series (possibly of different dtypes),\n",
              "    ``copy=False`` will ensure that these inputs are not copied.\n",
              "\n",
              "    .. versionchanged:: 1.3.0\n",
              "\n",
              "See Also\n",
              "--------\n",
              "DataFrame.from_records : Constructor from tuples, also record arrays.\n",
              "DataFrame.from_dict : From dicts of Series, arrays, or dicts.\n",
              "read_csv : Read a comma-separated values (csv) file into DataFrame.\n",
              "read_table : Read general delimited file into DataFrame.\n",
              "read_clipboard : Read text from clipboard into DataFrame.\n",
              "\n",
              "Notes\n",
              "-----\n",
              "Please reference the :ref:`User Guide &lt;basics.dataframe&gt;` for more information.\n",
              "\n",
              "Examples\n",
              "--------\n",
              "Constructing DataFrame from a dictionary.\n",
              "\n",
              "&gt;&gt;&gt; d = {&#x27;col1&#x27;: [1, 2], &#x27;col2&#x27;: [3, 4]}\n",
              "&gt;&gt;&gt; df = pd.DataFrame(data=d)\n",
              "&gt;&gt;&gt; df\n",
              "   col1  col2\n",
              "0     1     3\n",
              "1     2     4\n",
              "\n",
              "Notice that the inferred dtype is int64.\n",
              "\n",
              "&gt;&gt;&gt; df.dtypes\n",
              "col1    int64\n",
              "col2    int64\n",
              "dtype: object\n",
              "\n",
              "To enforce a single dtype:\n",
              "\n",
              "&gt;&gt;&gt; df = pd.DataFrame(data=d, dtype=np.int8)\n",
              "&gt;&gt;&gt; df.dtypes\n",
              "col1    int8\n",
              "col2    int8\n",
              "dtype: object\n",
              "\n",
              "Constructing DataFrame from a dictionary including Series:\n",
              "\n",
              "&gt;&gt;&gt; d = {&#x27;col1&#x27;: [0, 1, 2, 3], &#x27;col2&#x27;: pd.Series([2, 3], index=[2, 3])}\n",
              "&gt;&gt;&gt; pd.DataFrame(data=d, index=[0, 1, 2, 3])\n",
              "   col1  col2\n",
              "0     0   NaN\n",
              "1     1   NaN\n",
              "2     2   2.0\n",
              "3     3   3.0\n",
              "\n",
              "Constructing DataFrame from numpy ndarray:\n",
              "\n",
              "&gt;&gt;&gt; df2 = pd.DataFrame(np.array([[1, 2, 3], [4, 5, 6], [7, 8, 9]]),\n",
              "...                    columns=[&#x27;a&#x27;, &#x27;b&#x27;, &#x27;c&#x27;])\n",
              "&gt;&gt;&gt; df2\n",
              "   a  b  c\n",
              "0  1  2  3\n",
              "1  4  5  6\n",
              "2  7  8  9\n",
              "\n",
              "Constructing DataFrame from a numpy ndarray that has labeled columns:\n",
              "\n",
              "&gt;&gt;&gt; data = np.array([(1, 2, 3), (4, 5, 6), (7, 8, 9)],\n",
              "...                 dtype=[(&quot;a&quot;, &quot;i4&quot;), (&quot;b&quot;, &quot;i4&quot;), (&quot;c&quot;, &quot;i4&quot;)])\n",
              "&gt;&gt;&gt; df3 = pd.DataFrame(data, columns=[&#x27;c&#x27;, &#x27;a&#x27;])\n",
              "...\n",
              "&gt;&gt;&gt; df3\n",
              "   c  a\n",
              "0  3  1\n",
              "1  6  4\n",
              "2  9  7\n",
              "\n",
              "Constructing DataFrame from dataclass:\n",
              "\n",
              "&gt;&gt;&gt; from dataclasses import make_dataclass\n",
              "&gt;&gt;&gt; Point = make_dataclass(&quot;Point&quot;, [(&quot;x&quot;, int), (&quot;y&quot;, int)])\n",
              "&gt;&gt;&gt; pd.DataFrame([Point(0, 0), Point(0, 3), Point(2, 3)])\n",
              "   x  y\n",
              "0  0  0\n",
              "1  0  3\n",
              "2  2  3\n",
              "\n",
              "Constructing DataFrame from Series/DataFrame:\n",
              "\n",
              "&gt;&gt;&gt; ser = pd.Series([1, 2, 3], index=[&quot;a&quot;, &quot;b&quot;, &quot;c&quot;])\n",
              "&gt;&gt;&gt; df = pd.DataFrame(data=ser, index=[&quot;a&quot;, &quot;c&quot;])\n",
              "&gt;&gt;&gt; df\n",
              "   0\n",
              "a  1\n",
              "c  3\n",
              "\n",
              "&gt;&gt;&gt; df1 = pd.DataFrame([1, 2, 3], index=[&quot;a&quot;, &quot;b&quot;, &quot;c&quot;], columns=[&quot;x&quot;])\n",
              "&gt;&gt;&gt; df2 = pd.DataFrame(data=df1, index=[&quot;a&quot;, &quot;c&quot;])\n",
              "&gt;&gt;&gt; df2\n",
              "   x\n",
              "a  1\n",
              "c  3</pre>\n",
              "      <script>\n",
              "      if (google.colab.kernel.accessAllowed && google.colab.files && google.colab.files.view) {\n",
              "        for (const element of document.querySelectorAll('.filepath')) {\n",
              "          element.style.display = 'block'\n",
              "          element.onclick = (event) => {\n",
              "            event.preventDefault();\n",
              "            event.stopPropagation();\n",
              "            google.colab.files.view(element.textContent, 509);\n",
              "          };\n",
              "        }\n",
              "      }\n",
              "      for (const element of document.querySelectorAll('.function-repr-contents')) {\n",
              "        element.onclick = (event) => {\n",
              "          event.preventDefault();\n",
              "          event.stopPropagation();\n",
              "          element.classList.toggle('function-repr-contents-collapsed');\n",
              "        };\n",
              "      }\n",
              "      </script>\n",
              "      </div>"
            ]
          },
          "metadata": {},
          "execution_count": 17
        }
      ],
      "source": [
        "type(y_fold)"
      ]
    },
    {
      "cell_type": "code",
      "execution_count": null,
      "metadata": {
        "id": "yKyuqPKcXMli"
      },
      "outputs": [],
      "source": [
        "y = y_fold.squeeze()  # Convierte a Series si solo hay una columna"
      ]
    },
    {
      "cell_type": "code",
      "execution_count": null,
      "metadata": {
        "colab": {
          "base_uri": "https://localhost:8080/",
          "height": 204
        },
        "id": "q_uFg_H-XNiu",
        "outputId": "86334cc0-28b0-441d-abd2-98af8c81aaae"
      },
      "outputs": [
        {
          "output_type": "execute_result",
          "data": {
            "text/plain": [
              "pandas.core.series.Series"
            ],
            "text/html": [
              "<div style=\"max-width:800px; border: 1px solid var(--colab-border-color);\"><style>\n",
              "      pre.function-repr-contents {\n",
              "        overflow-x: auto;\n",
              "        padding: 8px 12px;\n",
              "        max-height: 500px;\n",
              "      }\n",
              "\n",
              "      pre.function-repr-contents.function-repr-contents-collapsed {\n",
              "        cursor: pointer;\n",
              "        max-height: 100px;\n",
              "      }\n",
              "    </style>\n",
              "    <pre style=\"white-space: initial; background:\n",
              "         var(--colab-secondary-surface-color); padding: 8px 12px;\n",
              "         border-bottom: 1px solid var(--colab-border-color);\"><b>pandas.core.series.Series</b><br/>def __init__(data=None, index=None, dtype: Dtype | None=None, name=None, copy: bool | None=None, fastpath: bool | lib.NoDefault=lib.no_default) -&gt; None</pre><pre class=\"function-repr-contents function-repr-contents-collapsed\" style=\"\"><a class=\"filepath\" style=\"display:none\" href=\"#\">/usr/local/lib/python3.12/dist-packages/pandas/core/series.py</a>One-dimensional ndarray with axis labels (including time series).\n",
              "\n",
              "Labels need not be unique but must be a hashable type. The object\n",
              "supports both integer- and label-based indexing and provides a host of\n",
              "methods for performing operations involving the index. Statistical\n",
              "methods from ndarray have been overridden to automatically exclude\n",
              "missing data (currently represented as NaN).\n",
              "\n",
              "Operations between Series (+, -, /, \\*, \\*\\*) align values based on their\n",
              "associated index values-- they need not be the same length. The result\n",
              "index will be the sorted union of the two indexes.\n",
              "\n",
              "Parameters\n",
              "----------\n",
              "data : array-like, Iterable, dict, or scalar value\n",
              "    Contains data stored in Series. If data is a dict, argument order is\n",
              "    maintained.\n",
              "index : array-like or Index (1d)\n",
              "    Values must be hashable and have the same length as `data`.\n",
              "    Non-unique index values are allowed. Will default to\n",
              "    RangeIndex (0, 1, 2, ..., n) if not provided. If data is dict-like\n",
              "    and index is None, then the keys in the data are used as the index. If the\n",
              "    index is not None, the resulting Series is reindexed with the index values.\n",
              "dtype : str, numpy.dtype, or ExtensionDtype, optional\n",
              "    Data type for the output Series. If not specified, this will be\n",
              "    inferred from `data`.\n",
              "    See the :ref:`user guide &lt;basics.dtypes&gt;` for more usages.\n",
              "name : Hashable, default None\n",
              "    The name to give to the Series.\n",
              "copy : bool, default False\n",
              "    Copy input data. Only affects Series or 1d ndarray input. See examples.\n",
              "\n",
              "Notes\n",
              "-----\n",
              "Please reference the :ref:`User Guide &lt;basics.series&gt;` for more information.\n",
              "\n",
              "Examples\n",
              "--------\n",
              "Constructing Series from a dictionary with an Index specified\n",
              "\n",
              "&gt;&gt;&gt; d = {&#x27;a&#x27;: 1, &#x27;b&#x27;: 2, &#x27;c&#x27;: 3}\n",
              "&gt;&gt;&gt; ser = pd.Series(data=d, index=[&#x27;a&#x27;, &#x27;b&#x27;, &#x27;c&#x27;])\n",
              "&gt;&gt;&gt; ser\n",
              "a   1\n",
              "b   2\n",
              "c   3\n",
              "dtype: int64\n",
              "\n",
              "The keys of the dictionary match with the Index values, hence the Index\n",
              "values have no effect.\n",
              "\n",
              "&gt;&gt;&gt; d = {&#x27;a&#x27;: 1, &#x27;b&#x27;: 2, &#x27;c&#x27;: 3}\n",
              "&gt;&gt;&gt; ser = pd.Series(data=d, index=[&#x27;x&#x27;, &#x27;y&#x27;, &#x27;z&#x27;])\n",
              "&gt;&gt;&gt; ser\n",
              "x   NaN\n",
              "y   NaN\n",
              "z   NaN\n",
              "dtype: float64\n",
              "\n",
              "Note that the Index is first build with the keys from the dictionary.\n",
              "After this the Series is reindexed with the given Index values, hence we\n",
              "get all NaN as a result.\n",
              "\n",
              "Constructing Series from a list with `copy=False`.\n",
              "\n",
              "&gt;&gt;&gt; r = [1, 2]\n",
              "&gt;&gt;&gt; ser = pd.Series(r, copy=False)\n",
              "&gt;&gt;&gt; ser.iloc[0] = 999\n",
              "&gt;&gt;&gt; r\n",
              "[1, 2]\n",
              "&gt;&gt;&gt; ser\n",
              "0    999\n",
              "1      2\n",
              "dtype: int64\n",
              "\n",
              "Due to input data type the Series has a `copy` of\n",
              "the original data even though `copy=False`, so\n",
              "the data is unchanged.\n",
              "\n",
              "Constructing Series from a 1d ndarray with `copy=False`.\n",
              "\n",
              "&gt;&gt;&gt; r = np.array([1, 2])\n",
              "&gt;&gt;&gt; ser = pd.Series(r, copy=False)\n",
              "&gt;&gt;&gt; ser.iloc[0] = 999\n",
              "&gt;&gt;&gt; r\n",
              "array([999,   2])\n",
              "&gt;&gt;&gt; ser\n",
              "0    999\n",
              "1      2\n",
              "dtype: int64\n",
              "\n",
              "Due to input data type the Series has a `view` on\n",
              "the original data, so\n",
              "the data is changed as well.</pre>\n",
              "      <script>\n",
              "      if (google.colab.kernel.accessAllowed && google.colab.files && google.colab.files.view) {\n",
              "        for (const element of document.querySelectorAll('.filepath')) {\n",
              "          element.style.display = 'block'\n",
              "          element.onclick = (event) => {\n",
              "            event.preventDefault();\n",
              "            event.stopPropagation();\n",
              "            google.colab.files.view(element.textContent, 263);\n",
              "          };\n",
              "        }\n",
              "      }\n",
              "      for (const element of document.querySelectorAll('.function-repr-contents')) {\n",
              "        element.onclick = (event) => {\n",
              "          event.preventDefault();\n",
              "          event.stopPropagation();\n",
              "          element.classList.toggle('function-repr-contents-collapsed');\n",
              "        };\n",
              "      }\n",
              "      </script>\n",
              "      </div>"
            ]
          },
          "metadata": {},
          "execution_count": 19
        }
      ],
      "source": [
        "type(y)"
      ]
    },
    {
      "cell_type": "code",
      "execution_count": null,
      "metadata": {
        "id": "b7E1Dx0ROtOB",
        "colab": {
          "base_uri": "https://localhost:8080/"
        },
        "outputId": "2bc32831-10dc-45a2-c346-f20bef24fe29"
      },
      "outputs": [
        {
          "output_type": "stream",
          "name": "stderr",
          "text": [
            "/usr/local/lib/python3.12/dist-packages/tsfresh/utilities/dataframe_functions.py:198: RuntimeWarning: The columns ['EVEN__query_similarity_count__query_None__threshold_0.0'\n",
            " 'ODD__query_similarity_count__query_None__threshold_0.0'] did not have any finite values. Filling with zeros.\n",
            "  warnings.warn(\n"
          ]
        }
      ],
      "source": [
        "from tsfresh import select_features\n",
        "from tsfresh.utilities.dataframe_functions import impute\n",
        "impute(extracted_features)\n",
        "features_filtered = select_features(extracted_features, y) ##Elimina características irrelevantes o ruidosas que no ayudan al modelo a predecir correctamente.\n"
      ]
    },
    {
      "cell_type": "code",
      "source": [
        "print(y)"
      ],
      "metadata": {
        "colab": {
          "base_uri": "https://localhost:8080/"
        },
        "id": "d4wKwmX9kRtH",
        "outputId": "f669b085-c3cc-441d-99d4-b914189b857d"
      },
      "execution_count": null,
      "outputs": [
        {
          "output_type": "stream",
          "name": "stdout",
          "text": [
            "0        True\n",
            "1        True\n",
            "2       False\n",
            "3        True\n",
            "4        True\n",
            "        ...  \n",
            "6998    False\n",
            "6999    False\n",
            "7000    False\n",
            "7001    False\n",
            "7002    False\n",
            "Name: label, Length: 7003, dtype: bool\n"
          ]
        }
      ]
    },
    {
      "cell_type": "code",
      "source": [
        "y.value_counts()"
      ],
      "metadata": {
        "colab": {
          "base_uri": "https://localhost:8080/",
          "height": 178
        },
        "id": "-xTZeFXeryg8",
        "outputId": "756da7bc-e2e8-4f8b-eef8-570797cff9d8"
      },
      "execution_count": null,
      "outputs": [
        {
          "output_type": "execute_result",
          "data": {
            "text/plain": [
              "label\n",
              "False    4364\n",
              "True     2639\n",
              "Name: count, dtype: int64"
            ],
            "text/html": [
              "<div>\n",
              "<style scoped>\n",
              "    .dataframe tbody tr th:only-of-type {\n",
              "        vertical-align: middle;\n",
              "    }\n",
              "\n",
              "    .dataframe tbody tr th {\n",
              "        vertical-align: top;\n",
              "    }\n",
              "\n",
              "    .dataframe thead th {\n",
              "        text-align: right;\n",
              "    }\n",
              "</style>\n",
              "<table border=\"1\" class=\"dataframe\">\n",
              "  <thead>\n",
              "    <tr style=\"text-align: right;\">\n",
              "      <th></th>\n",
              "      <th>count</th>\n",
              "    </tr>\n",
              "    <tr>\n",
              "      <th>label</th>\n",
              "      <th></th>\n",
              "    </tr>\n",
              "  </thead>\n",
              "  <tbody>\n",
              "    <tr>\n",
              "      <th>False</th>\n",
              "      <td>4364</td>\n",
              "    </tr>\n",
              "    <tr>\n",
              "      <th>True</th>\n",
              "      <td>2639</td>\n",
              "    </tr>\n",
              "  </tbody>\n",
              "</table>\n",
              "</div><br><label><b>dtype:</b> int64</label>"
            ]
          },
          "metadata": {},
          "execution_count": 22
        }
      ]
    },
    {
      "cell_type": "code",
      "source": [
        "import matplotlib.pyplot as plt\n",
        "import seaborn as sns\n",
        "\n",
        "sns.countplot(x=y)\n",
        "plt.title('Distribución de clases en variable objetivo')\n",
        "plt.xlabel('Clase')\n",
        "plt.ylabel('Cantidad')\n",
        "plt.show()"
      ],
      "metadata": {
        "colab": {
          "base_uri": "https://localhost:8080/",
          "height": 472
        },
        "id": "Am-hHJhZ3Ukj",
        "outputId": "fcff8a9e-93ce-4e0c-8f47-beae45d1ab67"
      },
      "execution_count": null,
      "outputs": [
        {
          "output_type": "display_data",
          "data": {
            "text/plain": [
              "<Figure size 640x480 with 1 Axes>"
            ],
            "image/png": "[encoded data removed]"
          },
          "metadata": {}
        }
      ]
    },
    {
      "cell_type": "markdown",
      "metadata": {
        "id": "wKQJjpV1VodG"
      },
      "source": [
        "Caracteristicas"
      ]
    },
    {
      "cell_type": "code",
      "source": [
        "# asumiendo que features_filtered es tu DataFrame original\n",
        "# 1) Extraemos los KEPID\n",
        "kepi_ids = features_filtered[\"Unnamed: 0\"].values\n",
        "\n",
        "# 2) Creamos un nuevo DataFrame sin esa columna\n",
        "X_df = features_filtered.drop(columns=[\"Unnamed: 0\"])\n",
        "print(\"Número de features:\", X_df.shape[1])\n",
        "\n",
        "# 3) Convertimos a numpy y escala\n",
        "X = X_df.values.astype(np.float32)\n",
        "y_np = y.values"
      ],
      "metadata": {
        "colab": {
          "base_uri": "https://localhost:8080/"
        },
        "id": "qxKByi1_f6l4",
        "outputId": "8d2694f4-6368-4e7a-89e2-133d839bd74d"
      },
      "execution_count": null,
      "outputs": [
        {
          "output_type": "stream",
          "name": "stdout",
          "text": [
            "Número de features: 612\n"
          ]
        }
      ]
    },
    {
      "cell_type": "markdown",
      "metadata": {
        "id": "0_8O2qbKWd95"
      },
      "source": [
        "Few-shot"
      ]
    },
    {
      "cell_type": "code",
      "execution_count": null,
      "metadata": {
        "id": "3buKjyPGWgnJ"
      },
      "outputs": [],
      "source": [
        "import torch\n",
        "from torch.utils.data import Dataset\n",
        "import numpy as np\n",
        "\n",
        "class FewShotDataset(Dataset):\n",
        "    def __init__(self, X, y):\n",
        "        self.X = torch.tensor(X, dtype=torch.float32)\n",
        "        self.y = torch.tensor(y, dtype=torch.long)\n",
        "\n",
        "    def __getitem__(self, idx):\n",
        "        return self.X[idx], self.y[idx]\n",
        "\n",
        "    def __len__(self):\n",
        "        return len(self.X)"
      ]
    },
    {
      "cell_type": "code",
      "execution_count": null,
      "metadata": {
        "id": "Ev0NgzUzXymO"
      },
      "outputs": [],
      "source": [
        "from sklearn.model_selection import train_test_split\n",
        "from sklearn.preprocessing import StandardScaler\n",
        "\n",
        "\n",
        "# Escalar\n",
        "scaler = StandardScaler()\n",
        "X = scaler.fit_transform(X)\n",
        "\n",
        "# Configuración Few-Shot\n",
        "n_ways = 2        # clases por episodio\n",
        "k_shots = 5       # ejemplos por clase para soporte\n",
        "q_queries = 10    # ejemplos por clase para query\n",
        "\n",
        "def create_episode(X, y, n_ways, k_shots, q_queries):\n",
        "    available_classes = np.unique(y)\n",
        "    classes = np.random.choice(available_classes, size=n_ways, replace=False)\n",
        "\n",
        "    support_x, support_y, support_idx = [], [], []\n",
        "    query_x, query_y, query_idx = [], [], []\n",
        "\n",
        "    for cls in classes:\n",
        "        idx_cls = np.where(y == cls)[0]   # índices originales de esa clase\n",
        "        if len(idx_cls) < (k_shots + q_queries):\n",
        "            continue\n",
        "        perm = np.random.permutation(len(idx_cls))\n",
        "        support_idx.extend(idx_cls[perm[:k_shots]])\n",
        "        query_idx.extend(idx_cls[perm[k_shots:k_shots+q_queries]])\n",
        "        support_x.append(X[idx_cls[perm[:k_shots]]])\n",
        "        query_x.append(X[idx_cls[perm[k_shots:k_shots+q_queries]]])\n",
        "        support_y.extend([cls]*k_shots)\n",
        "        query_y.extend([cls]*q_queries)\n",
        "\n",
        "    support_x = torch.tensor(np.concatenate(support_x), dtype=torch.float32)\n",
        "    query_x = torch.tensor(np.concatenate(query_x), dtype=torch.float32)\n",
        "    support_y = torch.tensor(support_y)\n",
        "    query_y = torch.tensor(query_y)\n",
        "    support_idx = torch.tensor(support_idx)\n",
        "    query_idx = torch.tensor(query_idx)\n",
        "\n",
        "    return support_x, support_y, support_idx, query_x, query_y, query_idx\n"
      ]
    },
    {
      "cell_type": "code",
      "execution_count": null,
      "metadata": {
        "id": "JUukViLYX1Jn"
      },
      "outputs": [],
      "source": [
        "import torch.nn as nn\n",
        "import torch.nn.functional as F\n",
        "\n",
        "class EmbeddingMLP(nn.Module):\n",
        "    def __init__(self, input_dim=features_filtered.shape[1], embed_dim=64):\n",
        "        super().__init__()\n",
        "        self.net = nn.Sequential(\n",
        "            nn.Linear(input_dim, 128),\n",
        "            nn.ReLU(),\n",
        "            nn.Linear(128, embed_dim)\n",
        "        )\n",
        "\n",
        "    def forward(self, x):\n",
        "        return self.net(x)\n"
      ]
    },
    {
      "cell_type": "code",
      "source": [
        "def prototypical_eval(model, support_x, support_y, query_x, query_y, query_idx):\n",
        "    model.eval()\n",
        "    with torch.no_grad():\n",
        "        support_embed = model(support_x)\n",
        "        query_embed = model(query_x)\n",
        "\n",
        "        # centroides\n",
        "        prototypes = []\n",
        "        for cls in torch.unique(support_y):\n",
        "            cls_embed = support_embed[support_y == cls]\n",
        "            prototypes.append(cls_embed.mean(dim=0))\n",
        "        prototypes = torch.stack(prototypes)\n",
        "\n",
        "        dists = torch.cdist(query_embed, prototypes) ** 2\n",
        "        log_p_y = F.log_softmax(-dists, dim=1)\n",
        "\n",
        "        # etiquetas mapeadas\n",
        "        query_labels = torch.tensor(\n",
        "            [torch.unique(support_y).tolist().index(lbl.item()) for lbl in query_y],\n",
        "            device=log_p_y.device\n",
        "        )\n",
        "\n",
        "        preds = log_p_y.argmax(dim=1)\n",
        "        acc = (preds == query_labels).float().mean().item()\n",
        "\n",
        "        # máscaras de correctos/incorrectos\n",
        "        correct_mask = preds == query_labels\n",
        "        incorrect_mask = ~correct_mask\n",
        "\n",
        "        correct_ids = query_idx[correct_mask.cpu()].cpu().numpy()\n",
        "        incorrect_ids = query_idx[incorrect_mask.cpu()].cpu().numpy()\n",
        "\n",
        "    return acc, correct_ids, incorrect_ids\n"
      ],
      "metadata": {
        "id": "ERl4CpElklif"
      },
      "execution_count": null,
      "outputs": []
    },
    {
      "cell_type": "code",
      "execution_count": null,
      "metadata": {
        "id": "OD4Wog-_X42H"
      },
      "outputs": [],
      "source": [
        "def prototypical_loss(model, support_x, support_y, query_x, query_y):\n",
        "    model.eval()\n",
        "    support_embed = model(support_x)\n",
        "    query_embed = model(query_x)\n",
        "\n",
        "    # Calculamos centroides (prototipos) de cada clase\n",
        "    prototypes = []\n",
        "    for cls in torch.unique(support_y):\n",
        "        cls_embed = support_embed[support_y == cls]\n",
        "        prototypes.append(cls_embed.mean(dim=0))\n",
        "    prototypes = torch.stack(prototypes)\n",
        "\n",
        "    # Distancia euclídea al cuadrado\n",
        "    dists = torch.cdist(query_embed, prototypes) ** 2\n",
        "    log_p_y = F.log_softmax(-dists, dim=1)\n",
        "\n",
        "    # Mapeo a clases (ordenadas como en torch.unique)\n",
        "    query_labels = torch.tensor([torch.unique(support_y).tolist().index(lbl.item()) for lbl in query_y])\n",
        "    loss = F.nll_loss(log_p_y, query_labels)\n",
        "    acc = (log_p_y.argmax(dim=1) == query_labels).float().mean()\n",
        "    return loss.item(), acc.item()\n"
      ]
    },
    {
      "cell_type": "code",
      "source": [
        "from sklearn.model_selection import train_test_split\n",
        "\n",
        "# ids globales\n",
        "ids = np.arange(len(y_np))\n",
        "\n",
        "# Split único y común\n",
        "X_train, X_test, y_train, y_test, ids_train, ids_test = train_test_split(\n",
        "    X, y_np, ids, test_size=0.2, random_state=42, stratify=y_np\n",
        ")\n"
      ],
      "metadata": {
        "id": "pLyqhY1yJnbM"
      },
      "execution_count": null,
      "outputs": []
    },
    {
      "cell_type": "code",
      "source": [
        "def eval_fewshot_on_test(model, X_train, y_train, X_test, y_test, ids_test, n_ways=2, k_shots=5):\n",
        "    \"\"\"\n",
        "    Evalúa few-shot en un conjunto de test fijo.\n",
        "    Retorna accuracy + listas de IDs correctos/incorrectos.\n",
        "    \"\"\"\n",
        "    model.eval()\n",
        "    with torch.no_grad():\n",
        "        available_classes = np.unique(y_test)\n",
        "\n",
        "        # Seleccionamos algunas clases de test (ejemplo: n_ways)\n",
        "        chosen_classes = np.random.choice(available_classes, n_ways, replace=False)\n",
        "\n",
        "        support_x, support_y = [], []\n",
        "        for cls in chosen_classes:\n",
        "            idx_cls = np.where(y_train == cls)[0]\n",
        "            if len(idx_cls) < k_shots:\n",
        "                continue\n",
        "            perm = np.random.permutation(len(idx_cls))\n",
        "            support_x.append(X_train[idx_cls[perm[:k_shots]]])\n",
        "            support_y.extend([cls]*k_shots)\n",
        "\n",
        "        support_x = torch.tensor(np.concatenate(support_x), dtype=torch.float32)\n",
        "        support_y = torch.tensor(support_y)\n",
        "\n",
        "        query_x = torch.tensor(X_test, dtype=torch.float32)\n",
        "        query_y = torch.tensor(y_test)\n",
        "        query_idx = ids_test\n",
        "\n",
        "        # embeddings\n",
        "        support_embed = model(support_x)\n",
        "        query_embed = model(query_x)\n",
        "\n",
        "        prototypes = []\n",
        "        for cls in torch.unique(support_y):\n",
        "            cls_embed = support_embed[support_y == cls]\n",
        "            prototypes.append(cls_embed.mean(dim=0))\n",
        "        prototypes = torch.stack(prototypes)\n",
        "\n",
        "        dists = torch.cdist(query_embed, prototypes) ** 2\n",
        "        log_p_y = F.log_softmax(-dists, dim=1)\n",
        "\n",
        "        # mapeamos etiquetas reales de query al espacio de prototipos\n",
        "        mapping = {cls.item(): i for i, cls in enumerate(torch.unique(support_y))}\n",
        "        valid_mask = np.array([lbl.item() in mapping for lbl in query_y])\n",
        "\n",
        "        query_labels = torch.tensor([mapping[lbl.item()] for lbl in query_y[valid_mask]])\n",
        "        preds = log_p_y[valid_mask].argmax(dim=1)\n",
        "\n",
        "        acc = (preds == query_labels).float().mean().item()\n",
        "\n",
        "        correct_mask = (preds == query_labels).cpu().numpy()\n",
        "        incorrect_mask = ~correct_mask\n",
        "\n",
        "        correct_ids = query_idx[valid_mask][correct_mask]\n",
        "        incorrect_ids = query_idx[valid_mask][incorrect_mask]\n",
        "\n",
        "    return acc, correct_ids, incorrect_ids\n"
      ],
      "metadata": {
        "id": "m9-oD8HBJik4"
      },
      "execution_count": null,
      "outputs": []
    },
    {
      "cell_type": "code",
      "execution_count": null,
      "metadata": {
        "id": "eO1-mPT-X7kn",
        "colab": {
          "base_uri": "https://localhost:8080/"
        },
        "outputId": "3ab23c73-cecd-486f-9d30-9c2c7c55cf2c"
      },
      "outputs": [
        {
          "output_type": "stream",
          "name": "stderr",
          "text": [
            "/tmp/ipython-input-565147615.py:35: DeprecationWarning: In future, it will be an error for 'np.bool' scalars to be interpreted as an index\n",
            "  support_y = torch.tensor(support_y)\n",
            "/tmp/ipython-input-565147615.py:36: DeprecationWarning: In future, it will be an error for 'np.bool' scalars to be interpreted as an index\n",
            "  query_y = torch.tensor(query_y)\n"
          ]
        },
        {
          "output_type": "stream",
          "name": "stdout",
          "text": [
            "Ep 0: Loss = 0.7024, Acc = 0.5000\n",
            "Ep 20: Loss = 0.5602, Acc = 0.8000\n",
            "Ep 40: Loss = 0.5788, Acc = 0.6500\n",
            "Ep 60: Loss = 0.7419, Acc = 0.5500\n",
            "Ep 80: Loss = 0.7461, Acc = 0.4500\n",
            "Ep 100: Loss = 0.6035, Acc = 0.5500\n",
            "Ep 120: Loss = 0.6941, Acc = 0.5000\n",
            "Ep 140: Loss = 0.6449, Acc = 0.6000\n",
            "Ep 160: Loss = 0.7257, Acc = 0.5000\n",
            "Ep 180: Loss = 0.5823, Acc = 0.7000\n",
            "Ep 200: Loss = 0.3544, Acc = 0.8000\n",
            "Ep 220: Loss = 0.8122, Acc = 0.6000\n",
            "Ep 240: Loss = 0.6821, Acc = 0.5500\n",
            "Ep 260: Loss = 0.6898, Acc = 0.5500\n",
            "Ep 280: Loss = 0.5887, Acc = 0.6000\n"
          ]
        }
      ],
      "source": [
        "model = EmbeddingMLP(input_dim=X_df.shape[1]).to(\"cuda\" if torch.cuda.is_available() else \"cpu\")\n",
        "optimizer = torch.optim.Adam(model.parameters(), lr=1e-3)\n",
        "\n",
        "for episode in range(300):\n",
        "    support_x, support_y, support_idx, query_x, query_y, query_idx = create_episode(X, y_np, n_ways, k_shots, q_queries)\n",
        "    support_x, support_y = support_x.to(model.net[0].weight.device), support_y.to(model.net[0].weight.device)\n",
        "    query_x, query_y = query_x.to(model.net[0].weight.device), query_y.to(model.net[0].weight.device)\n",
        "\n",
        "    model.train()\n",
        "    optimizer.zero_grad()\n",
        "    support_embed = model(support_x)\n",
        "    query_embed = model(query_x)\n",
        "\n",
        "    prototypes = []\n",
        "    for cls in torch.unique(support_y):\n",
        "        cls_embed = support_embed[support_y == cls]\n",
        "        prototypes.append(cls_embed.mean(dim=0))\n",
        "    prototypes = torch.stack(prototypes)\n",
        "\n",
        "    dists = torch.cdist(query_embed, prototypes) ** 2\n",
        "    log_p_y = F.log_softmax(-dists, dim=1)\n",
        "    query_labels = torch.tensor([torch.unique(support_y).tolist().index(lbl.item()) for lbl in query_y]).to(log_p_y.device)\n",
        "\n",
        "    loss = F.nll_loss(log_p_y, query_labels)\n",
        "    acc = (log_p_y.argmax(dim=1) == query_labels).float().mean()\n",
        "\n",
        "    loss.backward()\n",
        "    optimizer.step()\n",
        "\n",
        "    if episode % 20 == 0:\n",
        "        print(f\"Ep {episode}: Loss = {loss.item():.4f}, Acc = {acc.item():.4f}\")"
      ]
    },
    {
      "cell_type": "markdown",
      "metadata": {
        "id": "ENfvsUMLX8vp"
      },
      "source": [
        "Evaluacion few-shot"
      ]
    },
    {
      "cell_type": "code",
      "source": [
        "# Creamos un episodio de evaluación con el modelo entrenado\n",
        "support_x, support_y, support_idx, query_x, query_y, query_idx = create_episode(X, y_np, n_ways, k_shots, q_queries)\n",
        "\n",
        "# Pasamos a la misma device que el modelo\n",
        "device = next(model.parameters()).device\n",
        "support_x, support_y = support_x.to(device), support_y.to(device)\n",
        "query_x, query_y, query_idx = query_x.to(device), query_y.to(device), query_idx.to(device)\n",
        "\n",
        "# Evaluamos\n",
        "acc_few, correct_ids_few, incorrect_ids_few = eval_fewshot_on_test(\n",
        "    model, X_train, y_train, X_test, y_test, ids_test,\n",
        "    n_ways=2, k_shots=5\n",
        ")\n",
        "\n",
        "\n",
        "print(f\"\\nEvaluación final -> Acc = {acc:.4f}\")\n",
        "print(\"Correctos (IDs originales):\", correct_ids_few)\n",
        "print(\"Incorrectos (IDs originales):\", incorrect_ids_few)\n"
      ],
      "metadata": {
        "colab": {
          "base_uri": "https://localhost:8080/"
        },
        "id": "XzIorOI4kp_x",
        "outputId": "78f907ef-aac5-4ff7-9e6d-9e39f1440965"
      },
      "execution_count": null,
      "outputs": [
        {
          "output_type": "stream",
          "name": "stdout",
          "text": [
            "\n",
            "Evaluación final -> Acc = 0.4133\n",
            "Correctos (IDs originales): [  71 4919 3194 1801 4550  594 3479 6012 1513 3322 3079 3015 5039 1872\n",
            " 6705 3340 6093 5958 5704 2532 4273 5496 5779 6593 6625  899 1828 5785\n",
            " 5392 2853 2089 5562  102 5703 5588 6359 2031 2306 5168 2694 3756 3783\n",
            " 2260 6802 6372 1431 3120 6918  330  338 6286 3431 2629 1774 1723 5133\n",
            " 5435 6867 4304 4799 2378 1036 3612 5169 5405 3458 2726 3581 4313 3350\n",
            " 4656  552  404 5535 6072 4330 3162 5464 6009 5373 1056 1720 2391 4346\n",
            "   18 6756  240 2470 2355 6620  157 3289 3198 3572 4663 3468 2422  357\n",
            " 6192 4995 5627 4404 5612 1227 5897 6033 3959 1130 6532 1067 6165 6034\n",
            " 6332 4373 6863 1663  283 1186 5354 5616 2507 1185 6561 6835 6408 6871\n",
            " 6055 5443 1263 4127 2564 6467 3960 3858 2727 4138  341 5819 4546 6560\n",
            " 3694 4533 6480  346 6460 1200 6213 4619 6859 2396 6272 4087 4043 4639\n",
            " 3811 6888 3666 6217 6526 6900   53 5351 1044 5322 3988 1109 5585 4578\n",
            " 4349 3569 3922 5223 1069 3676 4672 4755 5149 1763 2175 3254 4081 6956\n",
            "  562 5938 3986 4013 5228 2588 6082 2720 5680 6458 1812 5793 5361 1819\n",
            "  912 6936  844 3371 5310 6191   15 4721  178  518 5407 1245 2461 2819\n",
            " 6342 6834 1178 6652 5094 6129 2872 6076 3248 4343 6263 1213 3600 2732\n",
            " 1450 4811 6641 2585  617 2188 6988 4615 5930 3520 5552 2215 1827 5772\n",
            " 3075 1005 5501 5696 4110 1043 3568  176 2662 3500 6182  188 5229 3310\n",
            " 1065 3457  179 1582 2186 5908 5686 1609 5579  211  233 4733 4784 3699\n",
            " 2117 6238 5639 5978 2295 1593 4167 6396 6909 2445  820 4854 1366 6580\n",
            " 4071 5130 1823  578 5966 1859 3496 5439 6847 5806 5960  529 3818 3953\n",
            " 2593 5673 1062 4032 1428 5441 2933 6656 2615 4890 4610 1095 4163 1531\n",
            " 5695 3578 6499  446 2429 2624 1883 5340 1048 3984 5307 3750 2027 1459\n",
            " 3002 6181 1145 3507 2734  956 3100 5548  758 3949  742 5156 3627 6957\n",
            " 6675 6850 4593 3482 3355 2446  433   90  149 6739 3483 4412 2840 2829\n",
            " 3753  390 5777 1865 5979 5430 4113 5298 4628   52 1324 5108 6971 5613\n",
            " 3102  775 5756  667 2690 5528 4218 5397 5031 5475 3682 5364 5119 5098\n",
            " 4729 3996 6108 5903 5467 5463 5735 5644 5049 6990 5949 1155 4093 1998\n",
            " 5754 3232  448 6736  400   95 4642 5813 6809 4003 3428 3159  489 2613\n",
            " 6148 5920 3598 5576 6534 3731 2602 3852 4092 4847 6100 1053 1394 4738\n",
            " 6197 5654 2928 2812 4011 1146  150 1565 1516 5782 4213 5175 1108 2931\n",
            " 4966 5312 6942 2140 5204 4837 6998 4529 2937 5224 1248 6056  260  304\n",
            " 1598 2498 3897 1257 2942 6596 4154 6694 6905 4954 4780  495 6637 4442\n",
            "  134  422 3644 4289  712 5318 6152 5589 4352 1033 6427 2758  438 3127\n",
            " 1239 5872 1568 6284 4616 1351 3651 5038 3201 6355 4668 3746 3873 1725\n",
            " 2285 2339 3155 2300 6846 3286 5838 6030 6142 3168 2882 3620 1330 5744\n",
            " 5984 5462 5362   74 1281 5060 6101 4607 6616 1007 5167 6345 5653  695\n",
            " 1832 3423 5788 1256 6700 4277  327 4365 2421 5053  145 2696 6476 2955\n",
            " 2168 4706 3701 4236 5883 1498 4222 5914 6728  299 3252 2705 2059 6483\n",
            " 3730 3884  842 4345 1440 4162 6463 2516 2193 1692  914  120 3888  137\n",
            " 5807  905 4341 6083 4383 2647 2535 5533  309 2718 6490 2229 5781 1548\n",
            " 1503 6122 5640 4114   42  181 3927 2614  755  896 6544 6146 4201 5732\n",
            " 5355 4528  474 4990 2499 5858 5992  726 1197 6690 1841 2753 5456 5870\n",
            " 2420 3603 3555 6548 1906 6695 5606 4430 1410 2257 4707 3639 5595 3744\n",
            " 5292 3347   91  907 1080 6444 3291 1346 3027 2619 4047 3908 4367  997\n",
            " 4622 2748 1094 1387 2322 6937 3472 6997 4895 2121 1415 4910 3794 3559\n",
            " 4379 5989   25 4198 5687 2466 6626 4321 2791 5523 1847 3785 3541 4428\n",
            " 1482 5116 3034 2009 1332 3348 6091 5887 4472 4435 3273    3  297  126\n",
            " 4685 4713 5132 3778 6686 3562 3975 6080 3633  430 6208 5652 4235 3059\n",
            "  649 2350 2964  242 4901 5723 4796 2885 3670  793 2078 6502 6304 2340\n",
            "  258 5625 4779   62 5059 4638 6894 2302  174 4488 6495  566 3230 6693\n",
            " 4405 3302 1758  487 3821 5560 5096 6308 5605 2916 3466 1383 3197 4000\n",
            " 1461 4643 1816 3016 6399 6281  139 3282 6630 6254 4602  550 5940 6830\n",
            " 6325 3370  553 5878 6810 4179 5336 5590 2963 6109 2857 1892  190 1370\n",
            " 3777  415]\n",
            "Incorrectos (IDs originales): [4820 1246   83 3961 6639 6924  618 3073 1411 1555 2183  239  709 4964\n",
            " 4380 4588 5944 6699  374 2044 2145 5327 5827 1627 3021 5776 6400 5559\n",
            " 3810 4548  981  776 5159   64  920 3498 5891  315 3228 4189  739 3944\n",
            " 1534 2685 3115 3037 4014 3150  999 5348 4786 3538 2441 2670  584 4439\n",
            " 4486 6273 1703 3661  243 1244 2368  723 2847 5540 6996 1589 2271 2591\n",
            " 1327 1975 3011 3306  200 1695 3055  993 4503 5676 2598 6624 5852 6979\n",
            " 3255 1520  557 3025 1375   70 2875 5320 2385 5250 5629  985   66 4337\n",
            " 6382 6405 4692 2481 5726 4143 5040 1319 2348 1400 6628 2807  937 2263\n",
            " 1993 6767 3977 5667 2769  416 6110 5479  414  337  542 4599 2674 6081\n",
            " 1999 6960 2064 1028 4883 5543 3052 5885 1698 3456 1848 4107 3833 6461\n",
            " 4168 1546 6710 6792 3202  607 1118 5514 4339 2583 5760 6218 6097  276\n",
            " 5990 1972 5433 2861  303   81 3724 2209 3508 3084 1099 4090 1372 5728\n",
            " 2124 2449 2988 3450  115 1668 4134  593 2731 4302 3606 3915 2512  717\n",
            " 1667 1567 1412 6866 1300 3050 4961 1863 2708 6336  770 1441 3563 6655\n",
            " 3738 5530 1481 5633 4149 3474 4133 4437 3919 2761 2659 4237 2855 5709\n",
            " 5783 3570  455 2202 5084 3752 5950 2508 3341 1018 1726 3410 2626  165\n",
            " 6661 6614  686 3789 6479 1870  982 5087 3042 2256 5937 5090   37  256\n",
            " 1701 2464 3546 6689 2172  560  107 1111 2076 3856 2876 1850 1866 4731\n",
            " 1456 5276 5050 1119 1962 2034 6629 6387 3226 5529 2496 1696 2573 6708\n",
            " 6790 6413 5423 5166 4722 1274 6049 1113  644  466 5449 3259 5708 5833\n",
            "  317 3614 1893 6951 6115 5740  321 5826 5602 1135 4989 4531   58 6327\n",
            " 3174 2560 6010 6567 2879 5404  787 2352 5412 2710 6518 3222 5495 1912\n",
            " 6524  282 6411 2965 6818 5631 5432 1376 4183 6005 2288 6520 4471 3365\n",
            " 6158 2704 6667 4999 2541 1775 1748 1577  251 1697 3020 6279 4502 2317\n",
            " 6379 6869 5746 5147  286 2973 2815 1889 2906 5961 6384 3216 1203 2045\n",
            " 6822  780 3364  419 5268 6402 2275 2833 3743 3765 1728 3526 2455   12\n",
            " 3470 1897 1168 4803 1006 6023 4772 1618 2971 2838  241 6013 3767 1545\n",
            " 1772 2922 2082 5112  746 5716 4863 2502 3033 5352 1940 2179 5408 2780\n",
            " 3234 2189 4972 3534  581 1014 6057  340  704 1786 6220 2865 1767 4914\n",
            "  823  585 2594 1226  432 6443  225  604 1115  277 1960 5567  974   28\n",
            " 1563 3385 4166 5730 4217 5178 4152 1427 5792 1997 6698  790 3963 4992\n",
            " 2968 2320  597 2128 4423 3119 5959 4776 6021 5341 1543 2287 5179  818\n",
            "  801 1429 4299 2623 2382 4600 1519 3187 6778 1071 2565 6929 1012 5457\n",
            "  675 4818 6945 5346 1172 4249 1821 4520 6366  467 4509 1283 1374  900\n",
            " 4747 1675 4567 2234 1474 1389 3626 6127 1869 4590 5399 5524  677  991\n",
            " 2134 2017 1021   96  259 4409 1757  587 1686 2742 1730 5705 1352 5127\n",
            "  966 2924 2654 3885 2112 4151 3426  950 4846  456 4266  391 1760 4623\n",
            " 6727 3497 1030 3439 4718 2369  506 5393 3850 1381 3285 5237 6160 1407\n",
            " 2652 2892 2251 6622 5596 3082 4026 2458 4141 5350 6116 2762 2511 5811\n",
            " 1475  671 3235 3406 2972 3565 5500 1325 2411  653 4635 1708 3292 2646\n",
            " 3053 6434 1959 6311  693 2383  216 5855  205 1622 6884 2504 2083  718\n",
            " 2738 2272 1862 1592 6134 2230 2376 5497 6061 4017 4108 6271  747 4454\n",
            " 1270 1544 2995 1532 1344 2522 4709 1926 6946 5537 1311 1349 1287 2992\n",
            " 2854 5471 2622 5963 3387 3849 6954  624 1254 4499 6645 1396 4300 2149\n",
            " 4325 2991 3436  151 1225   48 4427 3205 4926  921 4925 1932 3703 4088\n",
            " 4793 5103 2310 1024 6527  668 3595 2363  996 4061 4362 3343  673]\n"
          ]
        },
        {
          "output_type": "stream",
          "name": "stderr",
          "text": [
            "/tmp/ipython-input-565147615.py:35: DeprecationWarning: In future, it will be an error for 'np.bool' scalars to be interpreted as an index\n",
            "  support_y = torch.tensor(support_y)\n",
            "/tmp/ipython-input-565147615.py:36: DeprecationWarning: In future, it will be an error for 'np.bool' scalars to be interpreted as an index\n",
            "  query_y = torch.tensor(query_y)\n",
            "/tmp/ipython-input-3660468364.py:23: DeprecationWarning: In future, it will be an error for 'np.bool' scalars to be interpreted as an index\n",
            "  support_y = torch.tensor(support_y)\n"
          ]
        }
      ]
    },
    {
      "cell_type": "code",
      "source": [
        "correct_kepid = kepi_ids[correct_ids_few]\n",
        "print(correct_kepid)\n",
        "incorrect_kepid = kepi_ids[incorrect_ids_few]\n",
        "print(incorrect_kepid)"
      ],
      "metadata": {
        "colab": {
          "base_uri": "https://localhost:8080/"
        },
        "id": "ADCGRhyHl_Ux",
        "outputId": "31571b9c-acd0-40c8-8fe2-7d306cfb9c57"
      },
      "execution_count": null,
      "outputs": [
        {
          "output_type": "stream",
          "name": "stdout",
          "text": [
            "[ 9006186  7778437  9480310  5965819 11512246  4833421  9823487  8613535\n",
            " 12010534  5120225  6314185  7692093  2708270  3832474]\n",
            "[10153855 10779233   892772  9602775  7115463  7762886]\n"
          ]
        }
      ]
    },
    {
      "cell_type": "code",
      "execution_count": null,
      "metadata": {
        "id": "LBLbLD0qX-1m"
      },
      "outputs": [],
      "source": [
        "def evaluate_few_shot(model, X, y, n_ways=2, k_shots=5, q_queries=10, n_episodes=100):\n",
        "    model.eval()\n",
        "    accs = []\n",
        "\n",
        "    for ep in range(n_episodes):\n",
        "        try:\n",
        "            support_x, support_y, support_idx, query_x, query_y, query_idx = create_episode(X, y_np, n_ways, k_shots, q_queries)\n",
        "            device = next(model.parameters()).device\n",
        "            support_x, query_x = support_x.to(device), query_x.to(device)\n",
        "\n",
        "            # Embeddings\n",
        "            support_embed = model(support_x)\n",
        "            query_embed = model(query_x)\n",
        "\n",
        "            # Prototipos por clase\n",
        "            prototypes = []\n",
        "            unique_labels = torch.unique(support_y)\n",
        "            for cls in unique_labels:\n",
        "                proto = support_embed[support_y == cls].mean(dim=0)\n",
        "                prototypes.append(proto)\n",
        "            prototypes = torch.stack(prototypes)\n",
        "\n",
        "            # Distancias y predicción\n",
        "            dists = torch.cdist(query_embed, prototypes) ** 2\n",
        "            pred = torch.argmin(dists, dim=1)\n",
        "            true = torch.tensor([torch.where(unique_labels == lbl)[0].item() for lbl in query_y])\n",
        "\n",
        "            acc = (pred.cpu() == true).float().mean().item()\n",
        "            accs.append(acc)\n",
        "\n",
        "        except Exception as e:\n",
        "            print(f\" Episodio {ep+1} fallido: {e}\")\n",
        "            continue\n",
        "\n",
        "    accs = np.array(accs)\n",
        "    print(f\"\\n Evaluación en {len(accs)} episodios:\")\n",
        "    print(f\"Accuracy promedio: {accs.mean():.4f}\")\n",
        "    print(f\"Desviación estándar: {accs.std():.4f}\")\n"
      ]
    },
    {
      "cell_type": "code",
      "execution_count": null,
      "metadata": {
        "id": "0L0lSsg5YAHv",
        "colab": {
          "base_uri": "https://localhost:8080/"
        },
        "outputId": "efd8eb57-3b77-48d4-8db3-f2ebdcd143e6"
      },
      "outputs": [
        {
          "output_type": "stream",
          "name": "stderr",
          "text": [
            "/tmp/ipython-input-565147615.py:35: DeprecationWarning: In future, it will be an error for 'np.bool' scalars to be interpreted as an index\n",
            "  support_y = torch.tensor(support_y)\n",
            "/tmp/ipython-input-565147615.py:36: DeprecationWarning: In future, it will be an error for 'np.bool' scalars to be interpreted as an index\n",
            "  query_y = torch.tensor(query_y)\n"
          ]
        },
        {
          "output_type": "stream",
          "name": "stdout",
          "text": [
            "\n",
            "✅ Evaluación en 100 episodios:\n",
            "Accuracy promedio: 0.6605\n",
            "Desviación estándar: 0.1273\n"
          ]
        }
      ],
      "source": [
        "evaluate_few_shot(model, X, y_np, n_ways=2, k_shots=5, q_queries=10, n_episodes=100)"
      ]
    },
    {
      "cell_type": "code",
      "execution_count": null,
      "metadata": {
        "id": "vlezPUB_YFEL"
      },
      "outputs": [],
      "source": [
        "# from sklearn.manifold import TSNE\n",
        "# import matplotlib.pyplot as plt\n",
        "\n",
        "# # Crear un solo episodio con muchas muestras\n",
        "# support_x, support_y, query_x, query_y = create_episode(X, y_np, n_ways=2, k_shots=10, q_queries=20)\n",
        "\n",
        "# all_x = torch.cat([support_x, query_x])\n",
        "# all_y = torch.cat([support_y, query_y])\n",
        "\n",
        "# embeddings = model(all_x.to(device)).detach().cpu().numpy()\n",
        "\n",
        "# # Reducción de dimensión\n",
        "# X_2d = TSNE(n_components=2).fit_transform(embeddings)\n",
        "# plt.figure(figsize=(8,6))\n",
        "# plt.scatter(X_2d[:, 0], X_2d[:, 1], c=all_y, cmap='tab10', alpha=0.7)\n",
        "# plt.title(\"Embeddings de episodios (t-SNE)\")\n",
        "# plt.colorbar()\n",
        "# plt.show()\n"
      ]
    },
    {
      "cell_type": "code",
      "execution_count": null,
      "metadata": {
        "id": "aJUx0HQvYHQI",
        "colab": {
          "base_uri": "https://localhost:8080/",
          "height": 335
        },
        "outputId": "6981de75-994d-4ce0-dc23-f79a21ab5e58"
      },
      "outputs": [
        {
          "output_type": "stream",
          "name": "stderr",
          "text": [
            "/tmp/ipython-input-565147615.py:35: DeprecationWarning: In future, it will be an error for 'np.bool' scalars to be interpreted as an index\n",
            "  support_y = torch.tensor(support_y)\n",
            "/tmp/ipython-input-565147615.py:36: DeprecationWarning: In future, it will be an error for 'np.bool' scalars to be interpreted as an index\n",
            "  query_y = torch.tensor(query_y)\n"
          ]
        },
        {
          "output_type": "error",
          "ename": "ValueError",
          "evalue": "too many values to unpack (expected 4)",
          "traceback": [
            "\u001b[0;31m---------------------------------------------------------------------------\u001b[0m",
            "\u001b[0;31mValueError\u001b[0m                                Traceback (most recent call last)",
            "\u001b[0;32m/tmp/ipython-input-2030538743.py\u001b[0m in \u001b[0;36m<cell line: 0>\u001b[0;34m()\u001b[0m\n\u001b[1;32m      8\u001b[0m \u001b[0;34m\u001b[0m\u001b[0m\n\u001b[1;32m      9\u001b[0m \u001b[0;32mfor\u001b[0m \u001b[0m_\u001b[0m \u001b[0;32min\u001b[0m \u001b[0mrange\u001b[0m\u001b[0;34m(\u001b[0m\u001b[0;36m100\u001b[0m\u001b[0;34m)\u001b[0m\u001b[0;34m:\u001b[0m  \u001b[0;31m# número de episodios\u001b[0m\u001b[0;34m\u001b[0m\u001b[0;34m\u001b[0m\u001b[0m\n\u001b[0;32m---> 10\u001b[0;31m     \u001b[0msupport_x\u001b[0m\u001b[0;34m,\u001b[0m \u001b[0msupport_y\u001b[0m\u001b[0;34m,\u001b[0m \u001b[0mquery_x\u001b[0m\u001b[0;34m,\u001b[0m \u001b[0mquery_y\u001b[0m \u001b[0;34m=\u001b[0m \u001b[0mcreate_episode\u001b[0m\u001b[0;34m(\u001b[0m\u001b[0mX\u001b[0m\u001b[0;34m,\u001b[0m \u001b[0my_np\u001b[0m\u001b[0;34m,\u001b[0m \u001b[0mn_ways\u001b[0m\u001b[0;34m,\u001b[0m \u001b[0mk_shots\u001b[0m\u001b[0;34m,\u001b[0m \u001b[0mq_queries\u001b[0m\u001b[0;34m)\u001b[0m\u001b[0;34m\u001b[0m\u001b[0;34m\u001b[0m\u001b[0m\n\u001b[0m\u001b[1;32m     11\u001b[0m \u001b[0;34m\u001b[0m\u001b[0m\n\u001b[1;32m     12\u001b[0m     \u001b[0msupport_x\u001b[0m\u001b[0;34m,\u001b[0m \u001b[0msupport_y\u001b[0m \u001b[0;34m=\u001b[0m \u001b[0msupport_x\u001b[0m\u001b[0;34m.\u001b[0m\u001b[0mto\u001b[0m\u001b[0;34m(\u001b[0m\u001b[0mmodel\u001b[0m\u001b[0;34m.\u001b[0m\u001b[0mnet\u001b[0m\u001b[0;34m[\u001b[0m\u001b[0;36m0\u001b[0m\u001b[0;34m]\u001b[0m\u001b[0;34m.\u001b[0m\u001b[0mweight\u001b[0m\u001b[0;34m.\u001b[0m\u001b[0mdevice\u001b[0m\u001b[0;34m)\u001b[0m\u001b[0;34m,\u001b[0m \u001b[0msupport_y\u001b[0m\u001b[0;34m.\u001b[0m\u001b[0mto\u001b[0m\u001b[0;34m(\u001b[0m\u001b[0mmodel\u001b[0m\u001b[0;34m.\u001b[0m\u001b[0mnet\u001b[0m\u001b[0;34m[\u001b[0m\u001b[0;36m0\u001b[0m\u001b[0;34m]\u001b[0m\u001b[0;34m.\u001b[0m\u001b[0mweight\u001b[0m\u001b[0;34m.\u001b[0m\u001b[0mdevice\u001b[0m\u001b[0;34m)\u001b[0m\u001b[0;34m\u001b[0m\u001b[0;34m\u001b[0m\u001b[0m\n",
            "\u001b[0;31mValueError\u001b[0m: too many values to unpack (expected 4)"
          ]
        }
      ],
      "source": [
        "from sklearn.metrics import classification_report, confusion_matrix, ConfusionMatrixDisplay\n",
        "import matplotlib.pyplot as plt\n",
        "import torch\n",
        "\n",
        "# Evaluación en múltiples episodios\n",
        "all_preds = []\n",
        "all_true = []\n",
        "\n",
        "for _ in range(100):  # número de episodios\n",
        "    support_x, support_y, query_x, query_y = create_episode(X, y_np, n_ways, k_shots, q_queries)\n",
        "\n",
        "    support_x, support_y = support_x.to(model.net[0].weight.device), support_y.to(model.net[0].weight.device)\n",
        "    query_x, query_y = query_x.to(model.net[0].weight.device), query_y.to(model.net[0].weight.device)\n",
        "\n",
        "    with torch.no_grad():\n",
        "        support_embed = model(support_x)\n",
        "        query_embed = model(query_x)\n",
        "\n",
        "        # Calculamos prototipos\n",
        "        prototypes = []\n",
        "        unique_classes = torch.unique(support_y)\n",
        "        for cls in unique_classes:\n",
        "            cls_embed = support_embed[support_y == cls]\n",
        "            prototypes.append(cls_embed.mean(dim=0))\n",
        "        prototypes = torch.stack(prototypes)\n",
        "\n",
        "        # Clasificación\n",
        "        dists = torch.cdist(query_embed, prototypes) ** 2\n",
        "        log_p_y = F.log_softmax(-dists, dim=1)\n",
        "        preds = log_p_y.argmax(dim=1)\n",
        "\n",
        "        # Mapeamos query_y al índice de clase local (0, 1, ..., n_ways-1)\n",
        "        query_labels = torch.tensor([unique_classes.tolist().index(lbl.item()) for lbl in query_y]).to(preds.device)\n",
        "\n",
        "        all_preds.extend(preds.cpu().numpy())\n",
        "        all_true.extend(query_labels.cpu().numpy())\n",
        "\n",
        "# -----  Reporte de métricas -----\n",
        "print(\"=== Reporte por clase ===\")\n",
        "print(classification_report(all_true, all_preds, digits=4))\n",
        "\n",
        "# -----  Matriz de confusión -----\n",
        "cm = confusion_matrix(all_true, all_preds)\n",
        "disp = ConfusionMatrixDisplay(confusion_matrix=cm)\n",
        "disp.plot(cmap='Blues')\n",
        "plt.title(\"Matriz de confusión (promedio en 100 episodios)\")\n",
        "plt.show()"
      ]
    },
    {
      "cell_type": "code",
      "source": [
        "\n",
        "device = torch.device(\"cuda\" if torch.cuda.is_available() else \"cpu\")\n",
        "model.to(device).eval()\n",
        "\n",
        "\n",
        "# 2. Precalculamos prototipos globales (una vez)\n",
        "classes = np.unique(y_np).tolist()\n",
        "\n",
        "prototypes = []\n",
        "with torch.no_grad():\n",
        "    for cls in classes:\n",
        "        # extraemos todas las muestras de esa clase\n",
        "        mask = (y_np == cls)\n",
        "        x_cls = torch.tensor(X_scaled[mask], dtype=torch.float32).to(device)\n",
        "        emb   = model(x_cls)            # (n_i, embed_dim)\n",
        "        proto = emb.mean(dim=0)         # (embed_dim,)\n",
        "        prototypes.append(proto)\n",
        "prototypes = torch.stack(prototypes)  # (n_classes, embed_dim)\n",
        "\n",
        "\n",
        "def predict_one(row_feat: np.ndarray):\n",
        "    # row_feat: array de forma (D,)\n",
        "    x = row_feat[np.newaxis, :]                   # (1, D)\n",
        "    x = scaler.transform(x)                       # mismo StandardScaler\n",
        "    x = torch.tensor(x, dtype=torch.float32).to(device)  # (1, D)\n",
        "\n",
        "    with torch.no_grad():\n",
        "        emb = model(x)                               # (1, embed_dim)\n",
        "        # cdist devuelve (1, n_classes)\n",
        "        dists = torch.cdist(emb, prototypes)         # distancias euclídeas\n",
        "        idx_min = dists.argmin(dim=1).item()         # índice de la clase más cercana\n",
        "\n",
        "    return classes[idx_min]  # devuelve la etiqueta predicha\n"
      ],
      "metadata": {
        "id": "x2Tt9u5lqFli"
      },
      "execution_count": null,
      "outputs": []
    },
    {
      "cell_type": "code",
      "source": [
        "i = 123\n",
        "row_feat   = X_np[i]\n",
        "true_label = y_np[i]\n",
        "\n",
        "pred_label = predict_one(row_feat)\n",
        "\n",
        "print(f\"Índice {i}: KEPID={kepi_ids[i]}\")\n",
        "print(f\"  → Verdadero: {true_label}, Predicción: {pred_label}\")\n",
        "print(\"  → Correcto!\" if pred_label == true_label else \"  → ERROR\")\n"
      ],
      "metadata": {
        "id": "FBugQK-vqG-Y"
      },
      "execution_count": null,
      "outputs": []
    },
    {
      "cell_type": "markdown",
      "metadata": {
        "id": "I2zA4bCzZW6X"
      },
      "source": [
        "Contrastive Learning"
      ]
    },
    {
      "cell_type": "code",
      "execution_count": null,
      "metadata": {
        "id": "B1UFr4cOZWRh",
        "colab": {
          "base_uri": "https://localhost:8080/"
        },
        "outputId": "bd48b8b8-2042-4eb9-cc2f-ae7f61febbfa"
      },
      "outputs": [
        {
          "output_type": "stream",
          "name": "stdout",
          "text": [
            "Número de features: 612\n"
          ]
        }
      ],
      "source": [
        "from torch.utils.data import Dataset, DataLoader\n",
        "\n",
        "# 1) Extraemos los KEPID\n",
        "kepi_ids = features_filtered[\"Unnamed: 0\"].values\n",
        "\n",
        "# 2) Creamos un nuevo DataFrame sin esa columna\n",
        "X_df = features_filtered.drop(columns=[\"Unnamed: 0\"])\n",
        "print(\"Número de features:\", X_df.shape[1])\n",
        "\n",
        "# 3) Convertimos a numpy y escalar\n",
        "X = X_df.values.astype(np.float32)\n",
        "\n",
        "X = X_df.values.astype(np.float32)\n",
        "scaler = StandardScaler()\n",
        "X = scaler.fit_transform(X)\n",
        "y_np = y.values"
      ]
    },
    {
      "cell_type": "code",
      "source": [
        "from sklearn.model_selection import train_test_split\n",
        "import torch\n",
        "import torch.nn as nn\n",
        "import torch.nn.functional as F"
      ],
      "metadata": {
        "id": "pVAG-wuuG4L6"
      },
      "execution_count": null,
      "outputs": []
    },
    {
      "cell_type": "code",
      "execution_count": null,
      "metadata": {
        "colab": {
          "base_uri": "https://localhost:8080/"
        },
        "id": "rqNIU-xnZbd4",
        "outputId": "a987a4a2-beb7-4297-e9d8-943fbab6e892"
      },
      "outputs": [
        {
          "output_type": "stream",
          "name": "stdout",
          "text": [
            "Epoch [1/20], Loss: 3.9927\n",
            "Epoch [2/20], Loss: 3.8115\n",
            "Epoch [3/20], Loss: 3.7812\n",
            "Epoch [4/20], Loss: 3.7564\n",
            "Epoch [5/20], Loss: 3.7444\n",
            "Epoch [6/20], Loss: 3.7331\n",
            "Epoch [7/20], Loss: 3.7302\n",
            "Epoch [8/20], Loss: 3.7241\n",
            "Epoch [9/20], Loss: 3.7176\n",
            "Epoch [10/20], Loss: 3.7168\n",
            "Epoch [11/20], Loss: 3.7107\n",
            "Epoch [12/20], Loss: 3.7099\n",
            "Epoch [13/20], Loss: 3.7071\n",
            "Epoch [14/20], Loss: 3.7034\n",
            "Epoch [15/20], Loss: 3.7010\n",
            "Epoch [16/20], Loss: 3.6978\n",
            "Epoch [17/20], Loss: 3.6969\n",
            "Epoch [18/20], Loss: 3.6960\n",
            "Epoch [19/20], Loss: 3.6941\n",
            "Epoch [20/20], Loss: 3.6949\n"
          ]
        }
      ],
      "source": [
        "#class ContrastiveDataset(Dataset):\n",
        "#    def __init__(self, X):\n",
        "#        self.X = X\n",
        "#\n",
        "#    def __len__(self):\n",
        "#        return len(self.X)\n",
        "#\n",
        "#    def __getitem__(self, idx):\n",
        "#        x = self.X[idx]\n",
        "#        return torch.tensor(self.augment(x), dtype=torch.float32), torch.tensor(self.augment(x), dtype=torch.float32)\n",
        "#\n",
        "#    def augment(self, x):\n",
        "#        x_aug = x + 0.05 * np.random.randn(*x.shape)\n",
        "#        mask = np.random.binomial(1, 0.9, size=x.shape)\n",
        "#        return x_aug * mask\n",
        "\n",
        "class ContrastiveDataset(Dataset):\n",
        "    def __init__(self, X):\n",
        "        self.X = X\n",
        "\n",
        "    def __len__(self):\n",
        "        return len(self.X)\n",
        "\n",
        "    def __getitem__(self, idx):\n",
        "        x = self.X[idx]\n",
        "        x1 = self.augment(x)\n",
        "        x2 = self.augment(x)\n",
        "        return (\n",
        "            torch.tensor(x1, dtype=torch.float32),\n",
        "            torch.tensor(x2, dtype=torch.float32),\n",
        "            idx   # ✅ ID original\n",
        "        )\n",
        "\n",
        "    def augment(self, x):\n",
        "        x_aug = x + 0.05 * np.random.randn(*x.shape)\n",
        "        mask = np.random.binomial(1, 0.9, size=x.shape)\n",
        "        return x_aug * mask\n",
        "\n",
        "\n",
        "train_dataset = ContrastiveDataset(X_train)\n",
        "test_dataset = ContrastiveDataset(X_test)\n",
        "train_loader = DataLoader(train_dataset, batch_size=128, shuffle=True)\n",
        "\n",
        "\n",
        "########## MODELO\n",
        "\n",
        "class MLPEncoder(nn.Module):\n",
        "    def __init__(self, input_dim, projection_dim=64):\n",
        "        super().__init__()\n",
        "        self.encoder = nn.Sequential(\n",
        "            nn.Linear(input_dim, 256),\n",
        "            nn.ReLU(),\n",
        "            nn.Linear(256, 128),\n",
        "            nn.ReLU()\n",
        "        )\n",
        "        self.projector = nn.Sequential(\n",
        "            nn.Linear(128, projection_dim)\n",
        "        )\n",
        "\n",
        "    def forward(self, x):\n",
        "        h = self.encoder(x)\n",
        "        z = self.projector(h)\n",
        "        return F.normalize(z, dim=1)\n",
        "\n",
        "model = MLPEncoder(input_dim=X.shape[1]).to(\"cuda\" if torch.cuda.is_available() else \"cpu\")\n",
        "device = next(model.parameters()).device\n",
        "\n",
        "#### CONTRASTIVE LOSS\n",
        "\n",
        "def nt_xent_loss(z1, z2, temperature=0.5):\n",
        "    batch_size = z1.shape[0]\n",
        "    z = torch.cat([z1, z2], dim=0)  # (2N, D)\n",
        "\n",
        "    # Cosine similarity matrix\n",
        "    sim_matrix = F.cosine_similarity(z.unsqueeze(1), z.unsqueeze(0), dim=2)  # (2N, 2N)\n",
        "\n",
        "    # Mask to filter out self-similarity\n",
        "    self_mask = torch.eye(2 * batch_size, device=z.device).bool()\n",
        "    sim_matrix = sim_matrix.masked_fill(self_mask, -9e15)\n",
        "\n",
        "    # Positive pairs: i-th in z1 with (i + N)-th in z2 and vice versa\n",
        "    positives = torch.cat([torch.diag(sim_matrix, batch_size),\n",
        "                           torch.diag(sim_matrix, -batch_size)], dim=0)\n",
        "\n",
        "    # Labels (positives are at index 0)\n",
        "    labels = torch.zeros(2 * batch_size, dtype=torch.long, device=z.device)\n",
        "\n",
        "    # Compute logits\n",
        "    logits = torch.cat([positives.unsqueeze(1), sim_matrix], dim=1)\n",
        "    logits = logits / temperature\n",
        "\n",
        "    loss = F.cross_entropy(logits, labels)\n",
        "    return loss\n",
        "\n",
        "\n",
        "#### ENTRENAMIENTO\n",
        "\n",
        "optimizer = torch.optim.Adam(model.parameters(), lr=1e-3)\n",
        "epochs = 20\n",
        "\n",
        "for epoch in range(epochs):\n",
        "    model.train()\n",
        "    total_loss = 0\n",
        "    for x1, x2, _ in train_loader:\n",
        "        x1, x2 = x1.to(device), x2.to(device)\n",
        "        z1 = model(x1)\n",
        "        z2 = model(x2)\n",
        "        loss = nt_xent_loss(z1, z2)\n",
        "\n",
        "        optimizer.zero_grad()\n",
        "        loss.backward()\n",
        "        optimizer.step()\n",
        "        total_loss += loss.item()\n",
        "\n",
        "    print(f\"Epoch [{epoch+1}/{epochs}], Loss: {total_loss / len(train_loader):.4f}\")"
      ]
    },
    {
      "cell_type": "code",
      "source": [
        "val_dataset = ContrastiveDataset(X_val)\n",
        "val_loader = DataLoader(val_dataset, batch_size=128, shuffle=False)\n",
        "\n",
        "model.eval()\n",
        "all_embeddings = []\n",
        "all_ids = []\n",
        "\n",
        "with torch.no_grad():\n",
        "    for x1, x2, idx in val_loader:\n",
        "        x1, x2 = x1.to(device), x2.to(device)\n",
        "        z1 = model(x1)\n",
        "        z2 = model(x2)\n",
        "\n",
        "        # guardamos solo la primera vista (x1) para representar al ejemplo\n",
        "        all_embeddings.append(z1.cpu())\n",
        "        all_ids.extend(idx.numpy())\n",
        "\n",
        "all_embeddings = torch.cat(all_embeddings).numpy()\n",
        "all_ids = np.array(all_ids)\n",
        "\n",
        "print(\"Embeddings shape:\", all_embeddings.shape)  # (N_val, projection_dim)\n",
        "print(\"Ejemplo IDs:\", all_ids[:10])\n",
        "\n",
        "from sklearn.neighbors import KNeighborsClassifier\n",
        "from sklearn.metrics import accuracy_score\n",
        "\n",
        "# embeddings para train y val\n",
        "test_loader = DataLoader(test_dataset, batch_size=128, shuffle=False)\n",
        "\n",
        "def get_embeddings(dataset):\n",
        "    loader = DataLoader(dataset, batch_size=128, shuffle=False)\n",
        "    embs, ids = [], []\n",
        "    with torch.no_grad():\n",
        "        for x1, x2, idx in loader:\n",
        "            z = model(x1.to(device))\n",
        "            embs.append(z.cpu())\n",
        "            ids.extend(idx.numpy())\n",
        "    return torch.cat(embs).numpy(), np.array(ids)\n",
        "\n",
        "train_embs, train_ids = get_embeddings(train_dataset)\n",
        "test_embs, test_ids = get_embeddings(test_dataset)\n",
        "\n",
        "# knn usando embeddings de train como referencia\n",
        "knn = KNeighborsClassifier(n_neighbors=5)\n",
        "knn.fit(train_embs, y_train[train_ids])\n",
        "test_preds = knn.predict(test_embs)\n",
        "\n",
        "acc = accuracy_score(y_test[test_ids], test_preds)\n",
        "print(\"Acc test común (Contrastive):\", acc)\n",
        "\n",
        "correct_ids_contrast = ids_test[test_ids[test_preds == y_test[test_ids]]]\n",
        "incorrect_ids_contrast = ids_test[test_ids[test_preds != y_test[test_ids]]]\n",
        "\n",
        "print(\"Correctos (ejemplo):\", correct_ids_contrast[:10])\n",
        "print(\"Incorrectos (ejemplo):\", incorrect_ids_contrast[:10])\n",
        "\n",
        "\n"
      ],
      "metadata": {
        "colab": {
          "base_uri": "https://localhost:8080/"
        },
        "id": "X7idnmc-wIS_",
        "outputId": "f4a4492f-bc9c-4bec-9ec3-e0df22f81d0f"
      },
      "execution_count": null,
      "outputs": [
        {
          "output_type": "stream",
          "name": "stdout",
          "text": [
            "Embeddings shape: (1401, 64)\n",
            "Ejemplo IDs: [0 1 2 3 4 5 6 7 8 9]\n",
            "Acc test común (Contrastive): 0.708779443254818\n",
            "Correctos (ejemplo): [  71 4820 1246 1801 3961 6639 6924 3479 6012 1513]\n",
            "Incorrectos (ejemplo): [4919   83 3194  618 4550 3073 1411  594 1555 2183]\n"
          ]
        }
      ]
    },
    {
      "cell_type": "code",
      "execution_count": null,
      "metadata": {
        "colab": {
          "base_uri": "https://localhost:8080/"
        },
        "id": "x0Eco12DZf8Q",
        "outputId": "09c8bb08-2e70-44e4-f2c0-732aee1e1c23"
      },
      "outputs": [
        {
          "output_type": "stream",
          "name": "stdout",
          "text": [
            "Accuracy: 0.7016416845110636\n",
            "F1 Score: 0.6944985782607584\n",
            "\n",
            "Confusion Matrix:\n",
            " [[712 161]\n",
            " [257 271]]\n",
            "\n",
            "Classification Report:\n",
            "               precision    recall  f1-score   support\n",
            "\n",
            "       False       0.73      0.82      0.77       873\n",
            "        True       0.63      0.51      0.56       528\n",
            "\n",
            "    accuracy                           0.70      1401\n",
            "   macro avg       0.68      0.66      0.67      1401\n",
            "weighted avg       0.69      0.70      0.69      1401\n",
            "\n"
          ]
        }
      ],
      "source": [
        "from sklearn.linear_model import LogisticRegression\n",
        "from sklearn.metrics import accuracy_score, f1_score, confusion_matrix, classification_report\n",
        "\n",
        "# 1. Usamos el encoder para extraer representaciones\n",
        "model.eval()\n",
        "X_tensor = torch.tensor(X, dtype=torch.float32).to(device)\n",
        "with torch.no_grad():\n",
        "    embeddings = model.encoder(X_tensor).cpu().numpy()\n",
        "\n",
        "# 2. Dividimos en train/test\n",
        "X_train_enc, X_test_enc, y_train_enc, y_test_enc = train_test_split(\n",
        "    embeddings, y_np, test_size=0.2, random_state=42, stratify=y_np\n",
        ")\n",
        "\n",
        "# 3. Clasificador supervisado\n",
        "clf = LogisticRegression(max_iter=1000)\n",
        "clf.fit(X_train_enc, y_train_enc)\n",
        "y_pred = clf.predict(X_test_enc)\n",
        "\n",
        "# 4. Métricas\n",
        "acc = accuracy_score(y_test_enc, y_pred)\n",
        "f1 = f1_score(y_test_enc, y_pred, average='weighted')  # Puedes usar 'macro' o 'micro' también\n",
        "\n",
        "print(\"Accuracy:\", acc)\n",
        "print(\"F1 Score:\", f1)\n",
        "print(\"\\nConfusion Matrix:\\n\", confusion_matrix(y_test_enc, y_pred))\n",
        "print(\"\\nClassification Report:\\n\", classification_report(y_test_enc, y_pred))\n"
      ]
    },
    {
      "cell_type": "code",
      "source": [
        "import numpy as np\n",
        "import pandas as pd\n",
        "\n",
        "# Convertimos a DataFrame para facilitar la visualización\n",
        "results_df = pd.DataFrame({\n",
        "    'y_true': y_test_enc,\n",
        "    'y_pred': y_pred\n",
        "})\n",
        "\n",
        "# Falsos Positivos: predijo la clase pero no era\n",
        "false_positives = results_df[(results_df['y_pred'] != results_df['y_true']) &\n",
        "                             (results_df['y_pred'] == 1)]  # Cambia \"1\" por la clase que te interese si es multiclase\n",
        "\n",
        "# Falsos Negativos: no predijo la clase pero era\n",
        "false_negatives = results_df[(results_df['y_pred'] != results_df['y_true']) &\n",
        "                             (results_df['y_true'] == 1)]  # Cambia \"1\" por la clase que te interese\n",
        "\n",
        "# Muestra una pila de ejemplos (por ejemplo 5 de cada uno)\n",
        "print(\"Falsos positivos (ejemplos):\")\n",
        "print(false_positives.head())\n",
        "\n",
        "print(\"\\nFalsos negativos (ejemplos):\")\n",
        "print(false_negatives.head())\n"
      ],
      "metadata": {
        "colab": {
          "base_uri": "https://localhost:8080/"
        },
        "id": "mhtqNoLzJ2MZ",
        "outputId": "3761924b-fdad-4ab8-abea-f188ad1ed95f"
      },
      "execution_count": null,
      "outputs": [
        {
          "output_type": "stream",
          "name": "stdout",
          "text": [
            "Falsos positivos (ejemplos):\n",
            "    y_true  y_pred\n",
            "9    False    True\n",
            "11   False    True\n",
            "12   False    True\n",
            "14   False    True\n",
            "26   False    True\n",
            "\n",
            "Falsos negativos (ejemplos):\n",
            "    y_true  y_pred\n",
            "4     True   False\n",
            "5     True   False\n",
            "6     True   False\n",
            "13    True   False\n",
            "15    True   False\n"
          ]
        }
      ]
    },
    {
      "cell_type": "code",
      "source": [
        "import pandas as pd\n",
        "import numpy as np\n",
        "\n",
        "# Paso 1: Creamos DataFrame con etiquetas y embeddings\n",
        "results_df = pd.DataFrame(embeddings)  # embeddings = output del encoder\n",
        "results_df['y_true'] = y_np\n",
        "results_df['y_pred'] = clf.predict(embeddings)\n",
        "\n",
        "# Paso 2: Dividimos de nuevo para alinear con train/test split\n",
        "_, X_test_df, _, y_test_split = train_test_split(\n",
        "    results_df, y_np, test_size=0.2, random_state=42, stratify=y_np\n",
        ")\n",
        "\n",
        "X_test_df = X_test_df.reset_index(drop=True)\n",
        "\n",
        "# Paso 3: Falsos positivos y negativos\n",
        "false_positives = X_test_df[(X_test_df['y_pred'] != X_test_df['y_true']) & (X_test_df['y_pred'] == 1)]  # Cambia 1 por tu clase objetivo si es necesario\n",
        "false_negatives = X_test_df[(X_test_df['y_pred'] != X_test_df['y_true']) & (X_test_df['y_true'] == 1)]  # Cambia 1 por tu clase objetivo si es necesario\n",
        "\n",
        "# Paso 4: Guardar a CSV\n",
        "false_positives.to_csv(\"falsos_positivos_savgol.csv\", index=False)\n",
        "false_negatives.to_csv(\"falsos_negativos_savgol.csv\", index=False)\n",
        "\n",
        "print(\"Falsos positivos y negativos guardados como CSV.\")\n"
      ],
      "metadata": {
        "colab": {
          "base_uri": "https://localhost:8080/"
        },
        "id": "MDmjOJYyKk6H",
        "outputId": "f43464a9-4474-4df1-f75d-2e427077ba14"
      },
      "execution_count": null,
      "outputs": [
        {
          "output_type": "stream",
          "name": "stdout",
          "text": [
            "Falsos positivos y negativos guardados como CSV.\n"
          ]
        }
      ]
    },
    {
      "cell_type": "code",
      "execution_count": null,
      "metadata": {
        "id": "Tlmlvo9mZhXu"
      },
      "outputs": [],
      "source": [
        "# ----- Matriz de confusión -----\n",
        "cm = confusion_matrix(y_test_enc, y_pred)\n",
        "disp = ConfusionMatrixDisplay(confusion_matrix=cm)\n",
        "disp.plot(cmap='Blues')\n",
        "plt.title(\"Matriz de confusión\")\n",
        "plt.show()"
      ]
    },
    {
      "cell_type": "markdown",
      "metadata": {
        "id": "oUO6CbzseFWU"
      },
      "source": [
        "Jerarquico"
      ]
    },
    {
      "cell_type": "code",
      "execution_count": null,
      "metadata": {
        "id": "-Tpi9c3deG_6",
        "colab": {
          "base_uri": "https://localhost:8080/"
        },
        "outputId": "ccc35d88-c19a-4ef8-9f9a-50c6b50ae8a6"
      },
      "outputs": [
        {
          "output_type": "stream",
          "name": "stdout",
          "text": [
            "Correctos (IDs originales): [12470844  9823519  9353314  4476123  3103227  5794240 10858691  7045496\n",
            "  3342794  9825174 10670119  8226994  8678594  2302548  7767162  9364290\n",
            "  9530945  8547429  5965819  9328852]\n",
            "Incorrectos (IDs originales): [11909686  4079530 11027270 11612241  5110683  9846086  8892910  7115925\n",
            "  7009828  4246343  5130380 10031707  6939670  7031942 11137061  3228945\n",
            "  2711131 10006096  8415863  4752451]\n",
            "Accuracy (semi): 0.4097073518915061\n",
            "F1 weighted (semi): 0.274775607652751\n",
            "\n",
            "Classification Report (semi):\n",
            "               precision    recall  f1-score   support\n",
            "\n",
            "       False       0.98      0.05      0.10       873\n",
            "        True       0.39      1.00      0.56       528\n",
            "\n",
            "    accuracy                           0.41      1401\n",
            "   macro avg       0.68      0.53      0.33      1401\n",
            "weighted avg       0.76      0.41      0.27      1401\n",
            "\n"
          ]
        }
      ],
      "source": [
        "import numpy as np\n",
        "import pandas as pd\n",
        "from sklearn.preprocessing import StandardScaler\n",
        "from sklearn.cluster import AgglomerativeClustering\n",
        "from sklearn.ensemble import RandomForestClassifier\n",
        "from sklearn.metrics import accuracy_score, f1_score, classification_report\n",
        "\n",
        "\n",
        "# Clustering jerárquico (pseudolabels)\n",
        "n_clusters = 2\n",
        "clusterer = AgglomerativeClustering(n_clusters=n_clusters, linkage='ward')\n",
        "pseudo_train = clusterer.fit_predict(X_train)\n",
        "\n",
        "# Combinación etiquetas reales y pseudolabels\n",
        "# Usamos solo una parte de etiquetas reales (ej: 30%) y pseudolabels para el resto\n",
        "mask_labeled = np.random.rand(len(y_train)) < 0.3\n",
        "y_train_semi = np.where(mask_labeled, y_train, pseudo_train)\n",
        "\n",
        "# Clasificador supervisado\n",
        "clf = RandomForestClassifier(n_estimators=100, random_state=42)\n",
        "clf.fit(X_train, y_train_semi)\n",
        "y_pred = clf.predict(X_test)\n",
        "\n",
        "# IDs correctos / incorrectos\n",
        "correct_mask = y_pred == y_test\n",
        "incorrect_mask = ~correct_mask\n",
        "\n",
        "correct_ids_jer = ids_test[correct_mask]\n",
        "incorrect_ids_jer = ids_test[incorrect_mask]\n",
        "\n",
        "print(\"Correctos (IDs originales):\", kepi_ids[correct_ids_jer[:20]])\n",
        "print(\"Incorrectos (IDs originales):\", kepi_ids[incorrect_ids_jer[:20]])\n",
        "\n",
        "# Evaluación final\n",
        "acc = accuracy_score(y_test, y_pred)\n",
        "f1 = f1_score(y_test, y_pred, average='weighted')\n",
        "print(\"Accuracy (semi):\", acc)\n",
        "print(\"F1 weighted (semi):\", f1)\n",
        "print(\"\\nClassification Report (semi):\\n\", classification_report(y_test, y_pred))\n",
        "\n"
      ]
    },
    {
      "cell_type": "code",
      "execution_count": null,
      "metadata": {
        "id": "P2XDPTCMeKFr",
        "colab": {
          "base_uri": "https://localhost:8080/",
          "height": 472
        },
        "outputId": "877eef14-3f3b-4750-f43b-99f39c824f34"
      },
      "outputs": [
        {
          "output_type": "display_data",
          "data": {
            "text/plain": [
              "<Figure size 640x480 with 2 Axes>"
            ],
            "image/png": "[encoded data removed]"
          },
          "metadata": {}
        }
      ],
      "source": [
        "# ----- Matriz de confusión -----\n",
        "cm = confusion_matrix(y_test, y_pred)\n",
        "disp = ConfusionMatrixDisplay(confusion_matrix=cm)\n",
        "disp.plot(cmap='Blues')\n",
        "plt.title(\"Matriz de confusión\")\n",
        "plt.show()\n"
      ]
    },
    {
      "cell_type": "code",
      "source": [
        "import pandas as pd\n",
        "\n",
        "# Unimos todos los IDs que aparecieron en algún resultado\n",
        "all_ids = set(correct_ids_few) | set(incorrect_ids_few) & \\\n",
        "          set(correct_ids_contrast) | set(incorrect_ids_contrast) & \\\n",
        "          set(correct_ids_jer) | set(incorrect_ids_jer)\n",
        "\n",
        "data = []\n",
        "for idx in all_ids:\n",
        "    data.append({\n",
        "        \"ID\": idx,\n",
        "        \"FewShot\": \"Correcto\" if idx in correct_ids_few else \"Incorrecto\",\n",
        "        \"Contrastive\": \"Correcto\" if idx in correct_ids_contrast else \"Incorrecto\",\n",
        "        \"Jerarquico\": \"Correcto\" if idx in correct_ids_jer else \"Incorrecto\",\n",
        "    })\n",
        "\n",
        "df_results = pd.DataFrame(data).sort_values(\"ID\")\n",
        "print(df_results)\n",
        "\n",
        "# Agrupamos por combinaciones de resultados\n",
        "grouped = df_results.groupby([\"FewShot\", \"Contrastive\", \"Jerarquico\"])\n",
        "\n",
        "# Seleccionamos hasta 3 ejemplos por combinación\n",
        "n = 3\n",
        "sampled = grouped.apply(lambda g: g.sample(n=min(len(g), n), random_state=41)).reset_index(drop=True)\n",
        "\n",
        "print(sampled)\n"
      ],
      "metadata": {
        "colab": {
          "base_uri": "https://localhost:8080/"
        },
        "id": "ritl0v_AAxGt",
        "outputId": "ef1499c5-475d-4e9c-95ef-d05834f8895e"
      },
      "execution_count": null,
      "outputs": [
        {
          "output_type": "stream",
          "name": "stdout",
          "text": [
            "        ID     FewShot Contrastive  Jerarquico\n",
            "0        3    Correcto    Correcto    Correcto\n",
            "2       12  Incorrecto    Correcto    Correcto\n",
            "5       15    Correcto  Incorrecto  Incorrecto\n",
            "7       18    Correcto    Correcto    Correcto\n",
            "9       25    Correcto  Incorrecto    Correcto\n",
            "...    ...         ...         ...         ...\n",
            "1160  6988    Correcto    Correcto    Correcto\n",
            "1162  6990    Correcto    Correcto  Incorrecto\n",
            "1163  6996  Incorrecto    Correcto  Incorrecto\n",
            "1164  6997    Correcto    Correcto  Incorrecto\n",
            "1165  6998    Correcto    Correcto  Incorrecto\n",
            "\n",
            "[1401 rows x 4 columns]\n",
            "      ID     FewShot Contrastive  Jerarquico\n",
            "0   4379    Correcto    Correcto    Correcto\n",
            "1   2009    Correcto    Correcto    Correcto\n",
            "2   1281    Correcto    Correcto    Correcto\n",
            "3   2302    Correcto    Correcto  Incorrecto\n",
            "4   5673    Correcto    Correcto  Incorrecto\n",
            "5    562    Correcto    Correcto  Incorrecto\n",
            "6   2175    Correcto  Incorrecto    Correcto\n",
            "7   3059    Correcto  Incorrecto    Correcto\n",
            "8   4277    Correcto  Incorrecto    Correcto\n",
            "9   2885    Correcto  Incorrecto  Incorrecto\n",
            "10   422    Correcto  Incorrecto  Incorrecto\n",
            "11  3603    Correcto  Incorrecto  Incorrecto\n",
            "12  2560  Incorrecto    Correcto    Correcto\n",
            "13  3084  Incorrecto    Correcto    Correcto\n",
            "14  1622  Incorrecto    Correcto    Correcto\n",
            "15  2172  Incorrecto    Correcto  Incorrecto\n",
            "16  6818  Incorrecto    Correcto  Incorrecto\n",
            "17  6384  Incorrecto    Correcto  Incorrecto\n",
            "18  4339  Incorrecto  Incorrecto    Correcto\n",
            "19  2670  Incorrecto  Incorrecto    Correcto\n",
            "20  3410  Incorrecto  Incorrecto    Correcto\n",
            "21  4362  Incorrecto  Incorrecto  Incorrecto\n",
            "22  5087  Incorrecto  Incorrecto  Incorrecto\n",
            "23  6400  Incorrecto  Incorrecto  Incorrecto\n"
          ]
        },
        {
          "output_type": "stream",
          "name": "stderr",
          "text": [
            "/tmp/ipython-input-686030958.py:25: DeprecationWarning: DataFrameGroupBy.apply operated on the grouping columns. This behavior is deprecated, and in a future version of pandas the grouping columns will be excluded from the operation. Either pass `include_groups=False` to exclude the groupings or explicitly select the grouping columns after groupby to silence this warning.\n",
            "  sampled = grouped.apply(lambda g: g.sample(n=min(len(g), n), random_state=41)).reset_index(drop=True)\n"
          ]
        }
      ]
    },
    {
      "cell_type": "code",
      "source": [
        "df_results[\"kepid\"] = kepi_ids[df_results[\"ID\"]]\n",
        "print(df_results)"
      ],
      "metadata": {
        "colab": {
          "base_uri": "https://localhost:8080/"
        },
        "id": "MI_t0j1sDWtz",
        "outputId": "77d9ea24-0313-49b9-b897-71b685510b64"
      },
      "execution_count": null,
      "outputs": [
        {
          "output_type": "stream",
          "name": "stdout",
          "text": [
            "        ID     FewShot Contrastive  Jerarquico     kepid\n",
            "0        3    Correcto    Correcto    Correcto  10854555\n",
            "2       12  Incorrecto    Correcto    Correcto  10984090\n",
            "5       15    Correcto  Incorrecto  Incorrecto  10480982\n",
            "7       18    Correcto    Correcto    Correcto  10583066\n",
            "9       25    Correcto  Incorrecto    Correcto  11460018\n",
            "...    ...         ...         ...         ...       ...\n",
            "1160  6988    Correcto    Correcto    Correcto   9912977\n",
            "1162  6990    Correcto    Correcto  Incorrecto   9959368\n",
            "1163  6996  Incorrecto    Correcto  Incorrecto   4738095\n",
            "1164  6997    Correcto    Correcto  Incorrecto  10079317\n",
            "1165  6998    Correcto    Correcto  Incorrecto  10199817\n",
            "\n",
            "[1401 rows x 5 columns]\n"
          ]
        }
      ]
    },
    {
      "cell_type": "code",
      "source": [
        "i=1\n",
        "with pd.ExcelWriter(\"por_grupo.xlsx\") as writer:\n",
        "    for group_name, group_df in grouped:\n",
        "        sheet_name = \"H\"+str(i)\n",
        "        i+=1\n",
        "        group_df.to_excel(writer, sheet_name=sheet_name, index=False)"
      ],
      "metadata": {
        "id": "zqAgJft0JGLz"
      },
      "execution_count": null,
      "outputs": []
    }
  ],
  "metadata": {
    "colab": {
      "provenance": []
    },
    "kernelspec": {
      "display_name": "Python 3",
      "name": "python3"
    },
    "language_info": {
      "name": "python"
    }
  },
  "nbformat": 4,
  "nbformat_minor": 0
}